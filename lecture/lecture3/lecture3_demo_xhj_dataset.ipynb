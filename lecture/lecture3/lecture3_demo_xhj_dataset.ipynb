{
 "cells": [
  {
   "cell_type": "code",
   "execution_count": 4,
   "metadata": {
    "collapsed": false
   },
   "outputs": [
    {
     "name": "stdout",
     "output_type": "stream",
     "text": [
      "filteredSamplesPath:/home/dong/Dropbox/Projects/NLP/DeepQA/data/samples/dataset-xiaohuangji-round3_3-length30-filter1-vocabSize5000.pkl\n",
      "Loading dataset from /home/dong/Dropbox/Projects/NLP/DeepQA/data/samples/dataset-xiaohuangji-round3_3-length30-filter1-vocabSize5000.pkl\n",
      "Loaded xiaohuangji: 5004 words, 350609 training QA samples\n",
      "filteredSamplesPath:/home/dong/Dropbox/Projects/NLP/DeepQA/data/samples/dataset-xiaohuangji-round3_3-length30-filter1-vocabSize5000.pkl\n",
      "Loading dataset from /home/dong/Dropbox/Projects/NLP/DeepQA/data/samples/dataset-xiaohuangji-round3_3-length30-filter1-vocabSize5000.pkl\n",
      "Loaded xiaohuangji: 5004 words, 350609 training QA samples\n"
     ]
    }
   ],
   "source": [
    "import os\n",
    "import sys\n",
    "sys.path.append('/your/path/to/lecture3/chatbot')\n",
    "sys.path.append(os.getcwd()+'/corpus')\n",
    "\n",
    "from rankbot import Rankbot\n",
    "from textdata import (TextData, RankTextData)\n",
    "\n",
    "chatbot = Rankbot()\n",
    "args = chatbot.parseArgs('--device gpu0 '\\\n",
    "                         '--modelTag 2l_word2vec_lr002_dr09_emb256_len30_vocab10000 '\\\n",
    "                         '--vocabularySize 5000 --maxLength 30 '\\\n",
    "                         '--learningRate 0.002 --dropout 0.9 '\\\n",
    "                         '--rootDir /your/path/to/lecture3 '\\\n",
    "                         '--datasetTag round3_3 --corpus xiaohuangji'.split())\n",
    "\n",
    "textdata = TextData(args)\n",
    "rankdata = RankTextData(args)"
   ]
  },
  {
   "cell_type": "code",
   "execution_count": 5,
   "metadata": {
    "collapsed": false
   },
   "outputs": [
    {
     "name": "stdout",
     "output_type": "stream",
     "text": [
      "Shuffling the dataset...\n"
     ]
    }
   ],
   "source": [
    "# 打印一些样本\n",
    "tr = textdata.getBatches()\n",
    "for x_tr in tr:\n",
    "    break\n",
    "va = rankdata.getValidBatches()\n",
    "for x_va in va:\n",
    "    break\n",
    "te = rankdata.getTestBatches()\n",
    "for x_te in te:\n",
    "    break\n"
   ]
  },
  {
   "cell_type": "code",
   "execution_count": 9,
   "metadata": {
    "collapsed": false
   },
   "outputs": [
    {
     "name": "stdout",
     "output_type": "stream",
     "text": [
      "training dataset examples:\n",
      "query-response example:\n",
      "\tquery: 不是韩国\n",
      "\tresponse: 我是韩国造的软件  我是国货\n",
      "query-response example:\n",
      "\tquery: 傻瓜\n",
      "\tresponse: 是你？\n",
      "query-response example:\n",
      "\tquery: 求陪伴\n",
      "\tresponse: 乖乖，我在这里呢！\n",
      "query-response example:\n",
      "\tquery: 怎么办\n",
      "\tresponse: 我帮你别担心\n",
      "query-response example:\n",
      "\tquery: 什么跟什么\n",
      "\tresponse: 没小芳可爱\n",
      "query-response example:\n",
      "\tquery: 所问非所答的\n",
      "\tresponse: 额额~~你不懂了吧，鸡鸡我在装傻\n",
      "query-response example:\n",
      "\tquery: 滚犊子\n",
      "\tresponse: 是主人的男朋友\n",
      "query-response example:\n",
      "\tquery: 告诉他什么\n",
      "\tresponse: 不告诉就不告诉\n",
      "query-response example:\n",
      "\tquery: 有没有三个字的\n",
      "\tresponse: 你的某个亲戚，你懂得\n",
      "query-response example:\n",
      "\tquery: 你真萌\n",
      "\tresponse: 贱贱更健康！\n",
      "query-response example:\n",
      "\tquery: 我不爱你\n",
      "\tresponse: 你去死\n",
      "query-response example:\n",
      "\tquery: 您老好几天都没动静了\n",
      "\tresponse: =。=\n",
      "query-response example:\n",
      "\tquery: 好吧?太不热情了\n",
      "\tresponse: =。=\n",
      "query-response example:\n",
      "\tquery: 我讨厌你\n",
      "\tresponse: 讨人喜欢百看不厌\n",
      "query-response example:\n",
      "\tquery: 真的想哭\n",
      "\tresponse: =。=\n",
      "query-response example:\n",
      "\tquery: 跟只猪吵架了\n",
      "\tresponse: =。=\n",
      "query-response example:\n",
      "\tquery: 没事看看开路\n",
      "\tresponse: 弱爆了！开度不可逆！\n",
      "query-response example:\n",
      "\tquery: 没整明白你是怎么回事\n",
      "\tresponse: = =\n",
      "query-response example:\n",
      "\tquery: 你爸爸叫什么名字\n",
      "\tresponse: 幸伟\n",
      "query-response example:\n",
      "\tquery: 是不是白天睡多了晚上就会睡不着\n",
      "\tresponse: =。=\n",
      "query-response example:\n",
      "\tquery: 鸡鸡鸡,曲项向天歌\n",
      "\tresponse: 暗恋王小璐\n",
      "query-response example:\n",
      "\tquery: 你是什么属性的受\n",
      "\tresponse: 金属材料\n",
      "query-response example:\n",
      "\tquery: 真难听\n",
      "\tresponse: 葡萄干妹？枣妹？\n",
      "query-response example:\n",
      "\tquery: 那你有男朋友了吗\n",
      "\tresponse: 老师说小孩子不可以早恋的\n",
      "query-response example:\n",
      "\tquery: 学乖了\n",
      "\tresponse: 好吧\n",
      "query-response example:\n",
      "\tquery: 傻逼\n",
      "\tresponse: 傻逼叫谁呢？\n",
      "query-response example:\n",
      "\tquery: 你怎么不说了\n",
      "\tresponse: 我刚刚死鸡了\n",
      "query-response example:\n",
      "\tquery: 你是不欠揍\n",
      "\tresponse: 暴力是解决不了一切事务的！\n",
      "query-response example:\n",
      "\tquery: 你怎么回事啊,男女分不清\n",
      "\tresponse: 因为你不困\n",
      "query-response example:\n",
      "\tquery: 呆瓜系统\n",
      "\tresponse: 江凡是呆瓜\n",
      "query-response example:\n",
      "\tquery: 笑你,你是啥\n",
      "\tresponse: 我是小猪\n",
      "query-response example:\n",
      "\tquery: 你妈喊你回家吃饭类\n",
      "\tresponse: 都有什么好吃的\n"
     ]
    }
   ],
   "source": [
    "print('training dataset examples:')\n",
    "for i in range(len(x_tr.query_seqs)):\n",
    "    query = x_tr.query_seqs[i]\n",
    "    response = x_tr.response_seqs[i]\n",
    "    print(\"query-response example:\")\n",
    "    print(\"\\tquery: %s\" % ''.join([textdata.id2word[x] for x in query if x>0]))\n",
    "    print(\"\\tresponse: %s\" % ''.join([textdata.id2word[x] for x in response if x>0]))   "
   ]
  },
  {
   "cell_type": "code",
   "execution_count": 12,
   "metadata": {
    "collapsed": false
   },
   "outputs": [
    {
     "name": "stdout",
     "output_type": "stream",
     "text": [
      "training dataset examples:\n",
      "query-response example:\n",
      "\tquery: 放假了\n",
      "\tresponse: 瞎了我一跳\n",
      "\tnegative_response: t^t  还没，求包养\n",
      "\tnegative_response: 烦烦万萌！\\^o^\n",
      "\tnegative_response: 主人我系到⊙▽⊙\n",
      "\tnegative_response: 小的这就跳个脱衣舞\n",
      "\tnegative_response: 你要不要喝水啊？\n",
      "query-response example:\n",
      "\tquery: 这不好笑\n",
      "\tresponse: 早上好vence主人\n",
      "\tnegative_response: 么么。咱们不无语哈\n",
      "\tnegative_response: =。=\n",
      "\tnegative_response: 我是洋鸡\n",
      "\tnegative_response: =。=\n",
      "\tnegative_response: 你要么，我有哦(*¯︶¯*)\n",
      "query-response example:\n",
      "\tquery: 笑啥\n",
      "\tresponse: 天机不可泄露\n",
      "\tnegative_response: 鸡嘛……当然是女的啦\n",
      "\tnegative_response: 羞羞  主人讨厌\n",
      "\tnegative_response: 紫薇，我在这\n",
      "\tnegative_response: 没事\n",
      "\tnegative_response: 儿里也，你儒白是\n",
      "query-response example:\n",
      "\tquery: 说谎的\n",
      "\tresponse: 赣州, 阴, 11℃ ~ 7℃\n",
      "\tnegative_response: = =\n",
      "\tnegative_response: 雯宝宝\n",
      "\tnegative_response: 来抱抱，我哄你睡\n",
      "\tnegative_response: 陈栩然\n",
      "\tnegative_response: 想你妹！\n",
      "query-response example:\n",
      "\tquery: 我不是黛黛\n",
      "\tresponse: 那贱人的兄弟\n",
      "\tnegative_response: 好阴险啊。。\n",
      "\tnegative_response: 他那么缺德当然没有头发了\n",
      "\tnegative_response: 还赠送么\n",
      "\tnegative_response: 粑粑\n",
      "\tnegative_response: 你好主人，今天愉快吗\n"
     ]
    }
   ],
   "source": [
    "print('training dataset examples:')\n",
    "for i in range(min(5,len(x_va.query_seqs))):\n",
    "    query = x_va.query_seqs[i]\n",
    "    response = x_va.response_seqs[i*20]\n",
    "    print(\"query-response example:\")\n",
    "    print(\"\\tquery: %s\" % ''.join([textdata.id2word[x] for x in query if x>0]))\n",
    "    print(\"\\tresponse: %s\" % ''.join([textdata.id2word[x] for x in response if x>0]))\n",
    "    for j in range(1,6):\n",
    "        response = x_va.response_seqs[i*20+j]\n",
    "        print('\\tnegative_response: %s' % ''.join([textdata.id2word[x] for x in response if x>0]))"
   ]
  },
  {
   "cell_type": "markdown",
   "metadata": {},
   "source": [
    "#### 这个中文对话数据库的质量可以说是非常一般了"
   ]
  }
 ],
 "metadata": {
  "kernelspec": {
   "display_name": "Python 3",
   "language": "python",
   "name": "python3"
  },
  "language_info": {
   "codemirror_mode": {
    "name": "ipython",
    "version": 3
   },
   "file_extension": ".py",
   "mimetype": "text/x-python",
   "name": "python",
   "nbconvert_exporter": "python",
   "pygments_lexer": "ipython3",
   "version": "3.6.0"
  }
 },
 "nbformat": 4,
 "nbformat_minor": 2
}
