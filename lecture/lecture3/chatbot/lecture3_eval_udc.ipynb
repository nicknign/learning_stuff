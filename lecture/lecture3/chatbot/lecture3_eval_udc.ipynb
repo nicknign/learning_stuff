{
 "cells": [
  {
   "cell_type": "code",
   "execution_count": 1,
   "metadata": {
    "collapsed": true
   },
   "outputs": [],
   "source": [
    "from tqdm import tqdm\n",
    "import numpy as np\n",
    "import os\n",
    "import sys\n",
    "sys.path.append(os.getcwd())\n",
    "sys.path.append(os.getcwd()+'/corpus')"
   ]
  },
  {
   "cell_type": "code",
   "execution_count": 3,
   "metadata": {
    "collapsed": true
   },
   "outputs": [],
   "source": [
    "args_in = '--device gpu0 '\\\n",
    "        '--modelTag udc_2l_lr002_dr09_hid256_emb256_len50_vocab10000 '\\\n",
    "        '--hiddenSize 256 --embeddingSize 256 '\\\n",
    "        '--vocabularySize 10000 --maxLength 50 '\\\n",
    "        '--learningRate 0.002 --dropout 0.9 '\\\n",
    "        '--rootDir C:\\\\Users\\\\reade\\\\Documents\\\\lecture3 '\\\n",
    "        '--datasetTag round3_7 --corpus ubuntu'.split()\n",
    "        "
   ]
  },
  {
   "cell_type": "markdown",
   "metadata": {},
   "source": [
    "### 恢复（restore）best_model的参数\n",
    "**注意**\n",
    "\n",
    "`ckpt_file = 'your_filepath\\\\model_dir\\\\best_model.ckpt'`\n",
    "\n",
    "而不是\n",
    "\n",
    "`ckpt_file = 'your_filepath\\\\model_dir\\\\best_model.ckpt.data-00000-of-00001'`\n",
    "\n",
    "即便后者是你在文件夹里面能够看到的真实文件而前者只是一些文件的前缀\n",
    "\n",
    "`best_model.ckpt.data-00000-of-00001`\n",
    "`best_model.ckpt.meta`\n",
    "`best_model.ckpt.index`\n",
    "\n",
    "        \n",
    "\n",
    "### 输入validation数据，运行evaluation任务\n",
    "\n"
   ]
  },
  {
   "cell_type": "code",
   "execution_count": 4,
   "metadata": {
    "collapsed": true
   },
   "outputs": [],
   "source": [
    "\"\"\"Changed from Rankbot, used for inference\n",
    "\"\"\"\n",
    "import os  # 文件管理\n",
    "import tensorflow as tf\n",
    "from textdata import (TextData, RankTextData)\n",
    "from ranker import Ranker\n",
    "from rankbot import Rankbot\n",
    "\n",
    "def ranking(args=None, batch_valid=None):\n",
    "    args = Rankbot.parseArgs(args)\n",
    "    if not args.rootDir:\n",
    "        args.rootDir = os.getcwd()\n",
    "\n",
    "    # 搭建/restore 模型\n",
    "    graph = tf.Graph()\n",
    "\n",
    "    with graph.as_default():\n",
    "        with tf.name_scope('training'):\n",
    "                model_train = Ranker(args, is_training = True)\n",
    "\n",
    "        tf.get_variable_scope().reuse_variables()\n",
    "        with tf.name_scope('validation'):\n",
    "            model_valid = Ranker(args, is_training = False)\n",
    "\n",
    "        with tf.name_scope('evluation'):\n",
    "            model_test = Ranker(args, is_training = False)\n",
    "            ckpt_model_saver = tf.train.Saver(name = 'checkpoint_model_saver')\n",
    "            best_model_saver = tf.train.Saver(name = 'best_model_saver')\n",
    "\n",
    "\n",
    "        # 运行session\n",
    "        # allow_soft_placement = True: 当设置为使用GPU而实际上没有GPU的时候，允许使用其他设备运行。\n",
    "        sess = tf.Session(config=tf.ConfigProto(\n",
    "            allow_soft_placement=True,\n",
    "            log_device_placement=False)\n",
    "        )\n",
    "        # 恢复指定模型的参数\n",
    "        ckpt_file = 'C:\\\\Users\\\\reade\\\\Documents\\\\lecture3\\\\save\\\\model-udc_2l_lr002_dr09_hid256_emb256_len50_vocab10000\\\\best_model.ckpt'            \n",
    "        best_model_saver.restore(sess, ckpt_file)\n",
    "        valid_acc = [0, 0, 0]\n",
    "        for nextEvalBatch in tqdm(batches_valid):\n",
    "            ops, feedDict = model_valid.step(nextEvalBatch)\n",
    "            loss, eval_summaries = sess.run(ops, feedDict)\n",
    "            break\n",
    "            for i in range(3):\n",
    "                valid_acc[i] += loss[i]/len(batches_valid)\n",
    "    return loss, nextEvalBatch, valid_acc"
   ]
  },
  {
   "cell_type": "markdown",
   "metadata": {},
   "source": [
    "#### 一个class staticmethod的案例: `args = Rankbot.parseArgs(args)`\n",
    "#### 产生minibatch形式的validation dataset"
   ]
  },
  {
   "cell_type": "code",
   "execution_count": 5,
   "metadata": {},
   "outputs": [
    {
     "name": "stdout",
     "output_type": "stream",
     "text": [
      "filteredSamplesPath:C:\\Users\\reade\\Documents\\lecture3\\data/samples\\dataset-ubuntu-round3_7-length50-filter1-vocabSize10000.pkl\n",
      "Loading dataset from C:\\Users\\reade\\Documents\\lecture3\\data/samples\\dataset-ubuntu-round3_7-length50-filter1-vocabSize10000.pkl\n",
      "Loaded ubuntu: 10004 words, 1079144 training QA samples\n"
     ]
    }
   ],
   "source": [
    "args = Rankbot.parseArgs(args_in)\n",
    "evalData = RankTextData(args)\n",
    "batches_valid = evalData.getValidBatches()"
   ]
  },
  {
   "cell_type": "markdown",
   "metadata": {},
   "source": [
    "### 计算validation数据上的ranking排名，并返回一个minibatch的输入，真实回复和negative回复的score"
   ]
  },
  {
   "cell_type": "code",
   "execution_count": 6,
   "metadata": {},
   "outputs": [
    {
     "name": "stdout",
     "output_type": "stream",
     "text": [
      "模型初始化...\n",
      "模型初始化...\n",
      "模型初始化...\n",
      "INFO:tensorflow:Restoring parameters from C:\\Users\\reade\\Documents\\lecture3\\save\\model-udc_2l_lr002_dr09_hid256_emb256_len50_vocab10000\\best_model.ckpt\n"
     ]
    },
    {
     "name": "stderr",
     "output_type": "stream",
     "text": [
      "  0%|                                                                                         | 0/4216 [00:00<?, ?it/s]\n"
     ]
    }
   ],
   "source": [
    "loss, batch, acc = ranking(args_in, batches_valid)"
   ]
  },
  {
   "cell_type": "code",
   "execution_count": 26,
   "metadata": {},
   "outputs": [
    {
     "name": "stdout",
     "output_type": "stream",
     "text": [
      "[0.53538831010941268, 0.76440312089911577, 0.85885329242002106]\n"
     ]
    }
   ],
   "source": [
    "print(acc)"
   ]
  },
  {
   "cell_type": "code",
   "execution_count": 7,
   "metadata": {},
   "outputs": [
    {
     "data": {
      "text/plain": [
       "(32, 20)"
      ]
     },
     "execution_count": 7,
     "metadata": {},
     "output_type": "execute_result"
    }
   ],
   "source": [
    "rank1, rank3, rank5, logits = loss\n",
    "logits.shape"
   ]
  },
  {
   "cell_type": "code",
   "execution_count": 8,
   "metadata": {
    "collapsed": true
   },
   "outputs": [],
   "source": [
    "queries = []\n",
    "for i in range(len(batch.query_seqs)):\n",
    "    queries.append(' '.join([evalData.id2word[x] for x in batch.query_seqs[i] if x != 0]) )"
   ]
  },
  {
   "cell_type": "code",
   "execution_count": 9,
   "metadata": {
    "collapsed": true
   },
   "outputs": [],
   "source": [
    "batch.response_seqs\n",
    "responses = []\n",
    "for i in range(len(batch.response_seqs)):\n",
    "    responses.append(' '.join([evalData.id2word[x] for x in batch.response_seqs[i] if x != 0]) )"
   ]
  },
  {
   "cell_type": "code",
   "execution_count": 10,
   "metadata": {
    "collapsed": true
   },
   "outputs": [],
   "source": [
    "max_idx = np.argmax(logits, axis = 1)\n",
    "true_pred = []\n",
    "false_pred = []\n",
    "\n",
    "for i in range(len(max_idx)):\n",
    "    if max_idx[i]==0:\n",
    "        true_pred.append(i)\n",
    "    else:\n",
    "        false_pred.append(i)"
   ]
  },
  {
   "cell_type": "markdown",
   "metadata": {},
   "source": [
    "## 一些正确地将真实恢复排在第一位的例子"
   ]
  },
  {
   "cell_type": "code",
   "execution_count": 11,
   "metadata": {},
   "outputs": [
    {
     "name": "stdout",
     "output_type": "stream",
     "text": [
      "query sentence:\n",
      "\tpackages.ubuntu.com\n",
      "true response:\n",
      "\tthanks\n",
      "\n",
      "\n",
      "all responses sorted according to scores\n",
      "response ranked 0\n",
      "\tthanks\n",
      "response ranked 1\n",
      "\tyes _eou_ it is not mounting\n",
      "response ranked 2\n",
      "\tahh , let me help you\n",
      "response ranked 3\n",
      "\tit 's just the updates , that leave the old kernels there\n",
      "response ranked 4\n",
      "\tyes i see . well , first thing.. i 'm gon na reboot .\n",
      "response ranked 5\n",
      "\tcalled sudo my friend\n",
      "response ranked 6\n",
      "\tdid you order them the day before ? wow\n",
      "response ranked 7\n",
      "\ti do n't think so\n",
      "response ranked 8\n",
      "\tthey are installed via the ubuntu-desktop meta package i think _eou_ but do n't quote me on that\n",
      "response ranked 9\n",
      "\ti want to create a program using c or c++ code and i do n't know how to write and run it on kdevelop\n",
      "response ranked 10\n",
      "\tse files i want to share are already mounted to home and they are the files i wish to share but i read that it is good practice to have shares located at srv samba so i thought i could also mount them to that location ? _eou_\n",
      "response ranked 11\n",
      "\ttalking about wine\n",
      "response ranked 12\n",
      "\ti would say both but could be wrong _eou_ why do u need to know\n",
      "response ranked 13\n",
      "\ti do n't know of a specific too per se but you could do that very easily with a script _eou_ of course , you 'd have to write the script yourself : p\n",
      "response ranked 14\n",
      "\trepost your question ( 10 minutes or so ) in one post so it is easier to follow _eou_ no worries\n",
      "response ranked 15\n",
      "\ttake a peek in ~ bashrc _eou_ paste the ~ bashrc _eou_ `` cd '' alone will do it too . : )\n",
      "response ranked 16\n",
      "\tplaces > network should list any upnp devices on the network _eou_ dpkg -i _eou_ at login screen choose ubuntu session _eou_ hmm\n",
      "response ranked 17\n",
      "\tsudo dpkg reconfigure gdm _eou_ i 've no ideas , usually restricted driver will have it 's own setup\n",
      "response ranked 18\n",
      "\tpc or laptop ? enough memory ? run a memory check when you boot grub . _eou_ it does n't matter if you have 1 gb memory , if it is faulty memory it wo n't work , so run a memtest _eou_ 30 min max . _eou_ _eou_\n",
      "response ranked 19\n",
      "\ttry setting the sound mixer\n"
     ]
    }
   ],
   "source": [
    "eg1 = true_pred[0]\n",
    "print('query sentence:')\n",
    "print('\\t%s' % queries[eg1])\n",
    "print('true response:')\n",
    "print('\\t%s' % responses[eg1*20])\n",
    "print('\\n')\n",
    "print('all responses sorted according to scores')\n",
    "\n",
    "order = np.argsort(logits[eg1])\n",
    "for i in range(20):\n",
    "    print('response ranked %d' % i)\n",
    "    print('\\t%s' % responses[eg1*20 + order[-i-1]])"
   ]
  },
  {
   "cell_type": "code",
   "execution_count": 12,
   "metadata": {},
   "outputs": [
    {
     "name": "stdout",
     "output_type": "stream",
     "text": [
      "query sentence:\n",
      "\tdoes anyone else notice that firefox uses a lot of cpu ?\n",
      "true response:\n",
      "\tfirefox does that . especially if you 're low on ram\n",
      "\n",
      "\n",
      "all responses sorted according to scores\n",
      "response ranked 0\n",
      "\tfirefox does that . especially if you 're low on ram\n",
      "response ranked 1\n",
      "\tno . _eou_ probably\n",
      "response ranked 2\n",
      "\tno _eou_ it is safer\n",
      "response ranked 3\n",
      "\tdo your question\n",
      "response ranked 4\n",
      "\tneither , keep the offtopic chat somewhere else\n",
      "response ranked 5\n",
      "\twhich machine ?\n",
      "response ranked 6\n",
      "\tyou can do r to take it into raw mode and then try whatever\n",
      "response ranked 7\n",
      "\t, are you chinese ?\n",
      "response ranked 8\n",
      "\thmm\n",
      "response ranked 9\n",
      "\thttp : www kernel org _eou_ less will display it in a format that you can scroll through _eou_ then follow erusul 's suggestion and usr lpr\n",
      "response ranked 10\n",
      "\tand who are you , if i might want to know ?\n",
      "response ranked 11\n",
      "\thmmm ... reiserfs ... ext3 ?\n",
      "response ranked 12\n",
      "\toh . then it 's just `` apt-get upgrade ''\n",
      "response ranked 13\n",
      "\tso you want a webserver ? _eou_ apt-cache search mplayer\n",
      "response ranked 14\n",
      "\tdo you have build-essential ?\n",
      "response ranked 15\n",
      "\tthanks\n",
      "response ranked 16\n",
      "\tthanks\n",
      "response ranked 17\n",
      "\tplease do n't flood , use http : paste ubuntu com to paste , do n't use enter as punctuation .\n",
      "response ranked 18\n",
      "\tmv dir newname\n",
      "response ranked 19\n",
      "\trun nautilus , navigate to your dvd drive then right click - > properties - > permissions\n"
     ]
    }
   ],
   "source": [
    "eg2 = true_pred[1]\n",
    "print('query sentence:')\n",
    "print('\\t%s' % queries[eg2])\n",
    "print('true response:')\n",
    "print('\\t%s' % responses[eg2*20])\n",
    "print('\\n')\n",
    "print('all responses sorted according to scores')\n",
    "\n",
    "order = np.argsort(logits[eg2])\n",
    "for i in range(20):\n",
    "    print('response ranked %d' % i)\n",
    "    print('\\t%s' % responses[eg2*20 + order[-i-1]])"
   ]
  },
  {
   "cell_type": "code",
   "execution_count": 13,
   "metadata": {},
   "outputs": [
    {
     "name": "stdout",
     "output_type": "stream",
     "text": [
      "query sentence:\n",
      "\ti ca n't play audio files using audio players . can somebody help me fix this ? _eou_ <unknown> : yup but i have played the files before . _eou_ <unknown> : i have played it before using amarok . _eou_ <unknown> : yup .\n",
      "true response:\n",
      "\twhat version are you on _eou_ maybe you need to download the plug in for amarok _eou_ have you upgraded\n",
      "\n",
      "\n",
      "all responses sorted according to scores\n",
      "response ranked 0\n",
      "\twhat version are you on _eou_ maybe you need to download the plug in for amarok _eou_ have you upgraded\n",
      "response ranked 1\n",
      "\tsounds like stormx2 has it solved\n",
      "response ranked 2\n",
      "\tplease do n't flood ; use http : paste ubuntu com to paste ; do n't use enter as punctuation .\n",
      "response ranked 3\n",
      "\t: (\n",
      "response ranked 4\n",
      "\tyou may ask\n",
      "response ranked 5\n",
      "\tyes , it 's free .\n",
      "response ranked 6\n",
      "\tyou need to enable multiverse in sources.list\n",
      "response ranked 7\n",
      "\tsorry !\n",
      "response ranked 8\n",
      "\tenjoy : https : help ubuntu com 9 04 serverguide c index html\n",
      "response ranked 9\n",
      "\ti 'm on windows\n",
      "response ranked 10\n",
      "\tno ... ?\n",
      "response ranked 11\n",
      "\tthen the command you want to run , on the same line , after it\n",
      "response ranked 12\n",
      "\tgetdeb\n",
      "response ranked 13\n",
      "\tselinux is overkill for home users\n",
      "response ranked 14\n",
      "\tthank you . i 'm working on figuring out how to mount it .\n",
      "response ranked 15\n",
      "\t32bit vs 64bit os ? the standard os is 32bit and the newer oses are 64bit\n",
      "response ranked 16\n",
      "\tyou should n't be using 32bit applications on 64bit _eou_ ? _eou_ then you need to contact adobe as they have hardcoded the lib paths\n",
      "response ranked 17\n",
      "\tsensors is in the repositories . no tarball ...\n",
      "response ranked 18\n",
      "\tgrub _eou_ it 's pretty easy to configure\n",
      "response ranked 19\n",
      "\tit doesnt show up as rt , how do i make it startup using that one _eou_ it looks like its installed ( its in the grub menu ) but its not default , how do i make it default ?\n"
     ]
    }
   ],
   "source": [
    "eg3 = true_pred[2]\n",
    "print('query sentence:')\n",
    "print('\\t%s' % queries[eg3])\n",
    "print('true response:')\n",
    "print('\\t%s' % responses[eg3*20])\n",
    "print('\\n')\n",
    "print('all responses sorted according to scores')\n",
    "\n",
    "order = np.argsort(logits[eg3])\n",
    "for i in range(20):\n",
    "    print('response ranked %d' % i)\n",
    "    print('\\t%s' % responses[eg3*20 + order[-i-1]])"
   ]
  },
  {
   "cell_type": "markdown",
   "metadata": {},
   "source": [
    "## 一些将真实回复排在第二位或者更靠后的例子"
   ]
  },
  {
   "cell_type": "code",
   "execution_count": 57,
   "metadata": {},
   "outputs": [
    {
     "name": "stdout",
     "output_type": "stream",
     "text": [
      "query sentence:\n",
      "\thi all _eou_ what 's going on with # <unknown> . i cant seem so get connected\n",
      "true response:\n",
      "\tperhaps they decided to be # philosophy instead ?\n",
      "\n",
      "\n",
      "all responses sorted according to scores\n",
      "response ranked 0\n",
      "\twe 'll someone here has to have a network printer , the gnome they used in feisty had a very easy interface , then they changed it\n",
      "response ranked 1\n",
      "\tperhaps they decided to be # philosophy instead ?\n",
      "response ranked 2\n",
      "\tthere 's also citrix if you have a citrix server in house _eou_ emacs dude\n",
      "response ranked 3\n",
      "\to.o\n",
      "response ranked 4\n",
      "\thit alt+f2 and run gnome-system-monitor to get the `` task manager ''\n",
      "response ranked 5\n",
      "\tnalioth yes to local host works\n",
      "response ranked 6\n",
      "\tdo n't understand , where did you refresh ?\n",
      "response ranked 7\n",
      "\tlanguage\n",
      "response ranked 8\n",
      "\thave you used it with the accelerator patch ?\n",
      "response ranked 9\n",
      "\ti ca n't understand you\n",
      "response ranked 10\n",
      "\t! broadcom is a `` factoid '' i sent you , for some help with a particular bc wireless , sorry if you 've done all that , i do n't have any further suggestions . good luck .\n",
      "response ranked 11\n",
      "\ttry alsamixer\n",
      "response ranked 12\n",
      "\tuname -a\n",
      "response ranked 13\n",
      "\tyes\n",
      "response ranked 14\n",
      "\tmy xorg.conf has way fewer entries , is that a big problem ?\n",
      "response ranked 15\n",
      "\ti use xmms .\n",
      "response ranked 16\n",
      "\toh ok , cool ! thanks\n",
      "response ranked 17\n",
      "\tgamin is a file monitor\n",
      "response ranked 18\n",
      "\tno , it 's part of the gnu project , but yes , the g is for gimp .\n",
      "response ranked 19\n",
      "\tubuntu-desktop should take care of that , shouldnt it ?\n"
     ]
    }
   ],
   "source": [
    "eg4 = false_pred[0]\n",
    "print('query sentence:')\n",
    "print('\\t%s' % queries[eg4])\n",
    "print('true response:')\n",
    "print('\\t%s' % responses[eg4*20])\n",
    "print('\\n')\n",
    "print('all responses sorted according to scores')\n",
    "\n",
    "order = np.argsort(logits[eg4])\n",
    "for i in range(20):\n",
    "    print('response ranked %d' % i)\n",
    "    print('\\t%s' % responses[eg4*20 + order[-i-1]])"
   ]
  },
  {
   "cell_type": "code",
   "execution_count": 58,
   "metadata": {},
   "outputs": [
    {
     "name": "stdout",
     "output_type": "stream",
     "text": [
      "query sentence:\n",
      "\ti ca n't play audio files using audio players . can somebody help me fix this ? _eou_ <unknown> : yup but i have played the files before . _eou_ <unknown> : i have played it before using amarok . _eou_ <unknown> : yup .\n",
      "true response:\n",
      "\twhat version are you on _eou_ maybe you need to download the plug in for amarok _eou_ have you upgraded\n",
      "\n",
      "\n",
      "all responses sorted according to scores\n",
      "response ranked 0\n",
      "\tvlc does n't play wmv 's =\n",
      "response ranked 1\n",
      "\twhat version are you on _eou_ maybe you need to download the plug in for amarok _eou_ have you upgraded\n",
      "response ranked 2\n",
      "\tdefine advanced\n",
      "response ranked 3\n",
      "\tstart with # kubuntu perhaps ? ask there _eou_ try join # kubuntu\n",
      "response ranked 4\n",
      "\tif you keep tryin ' , you 'll succeed : )\n",
      "response ranked 5\n",
      "\twell in windows it works fine\n",
      "response ranked 6\n",
      "\tyes\n",
      "response ranked 7\n",
      "\tonly if you home is a seperate partition\n",
      "response ranked 8\n",
      "\tno . kubuntu is based on ubuntu , but is not the same , so you do not need the kubuntu package\n",
      "response ranked 9\n",
      "\tdo i need to reboot still beeping\n",
      "response ranked 10\n",
      "\tall worked fine until updating from 7.10 to 8.04\n",
      "response ranked 11\n",
      "\tyou want to turn your current computer to server or what ? run server and regular os on the same computer ?\n",
      "response ranked 12\n",
      "\tyou can enable root login , but safer is to go via sudo -s\n",
      "response ranked 13\n",
      "\tno support for 5.10 yet _eou_ or wait until 5.10 release\n",
      "response ranked 14\n",
      "\teither . if you are never going to need more than 4 partitions primary is fine . or logical linux is not as picky as windows about that _eou_ maybe use etc rc local as an easy solution ?\n",
      "response ranked 15\n",
      "\tyes , it 's # ubuntu+1\n",
      "response ranked 16\n",
      "\tis that after a certain kernel version ?\n",
      "response ranked 17\n",
      "\thmm , not what i was looking for , but it seems thats another way to alter the keyboard layout\n",
      "response ranked 18\n",
      "\ti think sudo ufw allow 22 _eou_ it should . check `` man ufw '' for reference . _eou_ np : )\n",
      "response ranked 19\n",
      "\tpinning probably , you 'd probably _eou_ i think that might be possible through synaptic , but i 've never tried it\n"
     ]
    }
   ],
   "source": [
    "eg5 = false_pred[1]\n",
    "print('query sentence:')\n",
    "print('\\t%s' % queries[eg5])\n",
    "print('true response:')\n",
    "print('\\t%s' % responses[eg5*20])\n",
    "print('\\n')\n",
    "print('all responses sorted according to scores')\n",
    "\n",
    "order = np.argsort(logits[eg5])\n",
    "for i in range(20):\n",
    "    print('response ranked %d' % i)\n",
    "    print('\\t%s' % responses[eg5*20 + order[-i-1]])"
   ]
  },
  {
   "cell_type": "code",
   "execution_count": 15,
   "metadata": {},
   "outputs": [
    {
     "name": "stdout",
     "output_type": "stream",
     "text": [
      "query sentence:\n",
      "\tfor kubuntu ? _eou_ you are referring to a ppa perhaps\n",
      "true response:\n",
      "\tyou mean https : launchpad net ubuntu ?\n",
      "\n",
      "\n",
      "all responses sorted according to scores\n",
      "response ranked 0\n",
      "\ti did it on\n",
      "response ranked 1\n",
      "\toops , apt-get dist-upgrade , gotcha ! i 'll probably do it from a text console then if it does n't matter - who knows ? ; )\n",
      "response ranked 2\n",
      "\tyou mean https : launchpad net ubuntu ?\n",
      "response ranked 3\n",
      "\ti really have no idea what the question is..\n",
      "response ranked 4\n",
      "\tthe last\n",
      "response ranked 5\n",
      "\tyes , that will do it\n",
      "response ranked 6\n",
      "\tit 's in the repos _eou_ the firefox plugin does n't work ?\n",
      "response ranked 7\n",
      "\tthanks : ) been there but there is only 11 people on channel , that is when i 've tried here\n",
      "response ranked 8\n",
      "\tpackages are simply .deb files . you can transfer them as any file .\n",
      "response ranked 9\n",
      "\tindicator applet\n",
      "response ranked 10\n",
      "\tok thanks mine freezes up\n",
      "response ranked 11\n",
      "\tno lame questions we are all here for one another : d\n",
      "response ranked 12\n",
      "\ti have lots of thoughts _eou_ you havent really asked a question\n",
      "response ranked 13\n",
      "\tsure there must be someone on this planet who used that combination\n",
      "response ranked 14\n",
      "\tis there a way to have it show me just the gateway 's mac address ?\n",
      "response ranked 15\n",
      "\ti had no idea on the gaming cards . i agree , that does make 0 sense . the integrated ones have worked very okay for me so far\n",
      "response ranked 16\n",
      "\tis there a way to know what is the cause _eou_ on every boot it is reset again and i get permission denied\n",
      "response ranked 17\n",
      "\tif you are using gnome you can use the tool from applications > accessories > disk usage analyzer to determine what is using up the space .\n",
      "response ranked 18\n",
      "\t# ubuntu-offtopic , # defocus\n",
      "response ranked 19\n",
      "\tonly if you create one in system - > preferences - > keyboard shortcuts\n"
     ]
    }
   ],
   "source": [
    "eg6 = false_pred[2]\n",
    "print('query sentence:')\n",
    "print('\\t%s' % queries[eg6])\n",
    "print('true response:')\n",
    "print('\\t%s' % responses[eg6*20])\n",
    "print('\\n')\n",
    "print('all responses sorted according to scores')\n",
    "\n",
    "order = np.argsort(logits[eg6])\n",
    "for i in range(20):\n",
    "    print('response ranked %d' % i)\n",
    "    print('\\t%s' % responses[eg6*20 + order[-i-1]])"
   ]
  },
  {
   "cell_type": "code",
   "execution_count": 14,
   "metadata": {},
   "outputs": [
    {
     "name": "stdout",
     "output_type": "stream",
     "text": [
      "query sentence:\n",
      "\tlol _eou_ <unknown> _eou_ - %\n",
      "true response:\n",
      "\thi , how can we help you today ?\n",
      "\n",
      "\n",
      "all responses sorted according to scores\n",
      "response ranked 0\n",
      "\tplease do n't flood ; use http : paste ubuntu com to paste ; do n't use enter as punctuation . _eou_ please do n't flood ; use http : paste ubuntu com to paste ; do n't use enter as punctuation . _eou_\n",
      "response ranked 1\n",
      "\tyo\n",
      "response ranked 2\n",
      "\thi , how can we help you today ?\n",
      "response ranked 3\n",
      "\t:3\n",
      "response ranked 4\n",
      "\ti know you know that . i was n't being entirely serious\n",
      "response ranked 5\n",
      "\tuse msg nickserv help and talk to the bot .\n",
      "response ranked 6\n",
      "\tplease do _eou_ i gave you one _eou_ your on the minimum required ram\n",
      "response ranked 7\n",
      "\thave you searched ubuntuforums ? lots of sound troubleshooting there .\n",
      "response ranked 8\n",
      "\tno , generally it sets up both ipv4 and ipv6\n",
      "response ranked 9\n",
      "\tdo you have universe enabled\n",
      "response ranked 10\n",
      "\tthanks\n",
      "response ranked 11\n",
      "\tafaik that 's correct .\n",
      "response ranked 12\n",
      "\ti dont know . it happens . there are a lot of tabs open usually . i am not watching flash at that time . nor is any specifically youtube tab open . i am trying to avoid it .\n",
      "response ranked 13\n",
      "\tyep _eou_ oh ok i understand thanks : )\n",
      "response ranked 14\n",
      "\tof course it is possible , but the documentation on how to do it is hidden and no one knows .\n",
      "response ranked 15\n",
      "\tif you want to delete , you might as well use chmod 777 filename _eou_ that gives full rights to everyone on the file . _eou_ try typing `` man chmod '' to get more info about how to use the command\n",
      "response ranked 16\n",
      "\teverything is set up properly , just that i do n't know how to use the mutt client _eou_ yeah got an online tutorial\n",
      "response ranked 17\n",
      "\ti 've tried nothing , but looking at webmin right now .\n",
      "response ranked 18\n",
      "\tntfs-3g _eou_ ntfs-3g gives you write access to ntfs drives . if there are weird permissions on the file you will not be able to write to it\n",
      "response ranked 19\n",
      "\ti do n't know but install mplayer and play anything from terminal through mplayer and it will show you the errors i think\n"
     ]
    }
   ],
   "source": [
    "eg7 = false_pred[3]\n",
    "print('query sentence:')\n",
    "print('\\t%s' % queries[eg7])\n",
    "print('true response:')\n",
    "print('\\t%s' % responses[eg7*20])\n",
    "print('\\n')\n",
    "print('all responses sorted according to scores')\n",
    "\n",
    "order = np.argsort(logits[eg7])\n",
    "for i in range(20):\n",
    "    print('response ranked %d' % i)\n",
    "    print('\\t%s' % responses[eg7*20 + order[-i-1]])"
   ]
  },
  {
   "cell_type": "markdown",
   "metadata": {},
   "source": [
    "## UDC论文上的案例分析"
   ]
  }
 ],
 "metadata": {
  "kernelspec": {
   "display_name": "Python 3",
   "language": "python",
   "name": "python3"
  },
  "language_info": {
   "codemirror_mode": {
    "name": "ipython",
    "version": 3
   },
   "file_extension": ".py",
   "mimetype": "text/x-python",
   "name": "python",
   "nbconvert_exporter": "python",
   "pygments_lexer": "ipython3",
   "version": "3.5.3"
  }
 },
 "nbformat": 4,
 "nbformat_minor": 2
}
