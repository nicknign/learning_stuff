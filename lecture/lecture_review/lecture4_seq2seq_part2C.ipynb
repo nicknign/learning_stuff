{
 "cells": [
  {
   "cell_type": "code",
   "execution_count": 1,
   "metadata": {
    "collapsed": true
   },
   "outputs": [],
   "source": [
    "import math\n",
    "import numpy as np\n",
    "import sys\n",
    "import tensorflow as tf"
   ]
  },
  {
   "cell_type": "code",
   "execution_count": 2,
   "metadata": {
    "collapsed": false
   },
   "outputs": [],
   "source": [
    "sys.path.append('/home/dong/Dropbox/Projects/NLP/seq2seq')\n",
    "from seq2seq.encoders import rnn_encoder\n",
    "from seq2seq.decoders import basic_decoder"
   ]
  },
  {
   "cell_type": "markdown",
   "metadata": {},
   "source": [
    "# 产生一个demo 合成数据minibatch"
   ]
  },
  {
   "cell_type": "code",
   "execution_count": 3,
   "metadata": {
    "collapsed": false
   },
   "outputs": [
    {
     "name": "stdout",
     "output_type": "stream",
     "text": [
      "产生10个长度不一（最短3，最长8）的sequences, 其中前十个是:\n",
      "[9, 9, 2, 9, 8, 6, 9]\n",
      "[9, 8, 6, 5, 5, 2, 5]\n",
      "[8, 8, 8, 5, 5, 5, 9, 9]\n",
      "[2, 9, 4]\n",
      "[6, 2, 2]\n",
      "[3, 3, 9]\n",
      "[9, 5, 8, 2, 3, 7, 4, 4]\n",
      "[8, 2, 2, 8, 6]\n",
      "[7, 4, 8]\n",
      "[9, 4, 9, 8, 8, 3, 2, 9]\n"
     ]
    }
   ],
   "source": [
    "PAD = 0\n",
    "EOS = 1\n",
    "\n",
    "\n",
    "vocab_size = 10\n",
    "input_embedding_size = 20\n",
    "encoder_hidden_units = 25\n",
    "\n",
    "decoder_hidden_units = encoder_hidden_units\n",
    "\n",
    "import helpers as data_helpers\n",
    "batch_size = 10\n",
    "\n",
    "# 一个generator，每次产生一个minibatch的随机样本\n",
    "\n",
    "batches = data_helpers.random_sequences(length_from=3, length_to=8,\n",
    "                                   vocab_lower=2, vocab_upper=10,\n",
    "                                   batch_size=batch_size)\n",
    "\n",
    "print('产生%d个长度不一（最短3，最长8）的sequences, 其中前十个是:' % batch_size)\n",
    "for seq in next(batches)[:min(batch_size, 10)]:\n",
    "    print(seq)"
   ]
  },
  {
   "cell_type": "markdown",
   "metadata": {},
   "source": [
    "# 使用seq2seq库实现seq2seq模型"
   ]
  },
  {
   "cell_type": "code",
   "execution_count": 4,
   "metadata": {
    "collapsed": false
   },
   "outputs": [],
   "source": [
    "tf.reset_default_graph()\n",
    "sess = tf.InteractiveSession()"
   ]
  },
  {
   "cell_type": "markdown",
   "metadata": {},
   "source": [
    "### 1. 计算图的数据的placeholder"
   ]
  },
  {
   "cell_type": "code",
   "execution_count": 5,
   "metadata": {
    "collapsed": false
   },
   "outputs": [],
   "source": [
    "with tf.name_scope('minibatch'):\n",
    "    encoder_inputs = tf.placeholder(shape=(None, None),\n",
    "                                    dtype=tf.int32,\n",
    "                                    name='encoder_inputs')\n",
    "    encoder_inputs_length = tf.placeholder(shape=(None,),\n",
    "                                           dtype=tf.int32,\n",
    "                                           name='encoder_inputs_length')\n",
    "\n",
    "    decoder_targets = tf.placeholder(shape=(None, None),\n",
    "                                     dtype=tf.int32,\n",
    "                                     name='decoder_targets')\n",
    "    \n",
    "    decoder_inputs = tf.placeholder(shape=(None, None),\n",
    "                                    dtype=tf.int32,\n",
    "                                    name='decoder_inputs')\n",
    "    decoder_inputs_length = tf.placeholder(shape=(None,),\n",
    "                                            dtype=tf.int32,\n",
    "                                            name='decoder_inputs_length')\n"
   ]
  },
  {
   "cell_type": "markdown",
   "metadata": {},
   "source": [
    "### 2. 定义 encoding 模型，使用seq2seq.encoder \n",
    "\n",
    "#### 2-a. encoding过程的hyperparameters"
   ]
  },
  {
   "cell_type": "code",
   "execution_count": 6,
   "metadata": {
    "collapsed": false
   },
   "outputs": [
    {
     "data": {
      "text/plain": [
       "{'init_scale': 0.04,\n",
       " 'rnn_cell': {'cell_class': 'BasicLSTMCell',\n",
       "  'cell_params': {'num_units': 25},\n",
       "  'dropout_input_keep_prob': 1.0,\n",
       "  'dropout_output_keep_prob': 1.0,\n",
       "  'num_layers': 1,\n",
       "  'residual_combiner': 'add',\n",
       "  'residual_connections': False,\n",
       "  'residual_dense': False}}"
      ]
     },
     "execution_count": 6,
     "metadata": {},
     "output_type": "execute_result"
    }
   ],
   "source": [
    "encoder_params = rnn_encoder.UnidirectionalRNNEncoder.default_params()\n",
    "encoder_params[\"rnn_cell\"][\"cell_params\"][\"num_units\"] = encoder_hidden_units\n",
    "encoder_params[\"rnn_cell\"][\"cell_class\"] = \"BasicLSTMCell\"\n",
    "encoder_params"
   ]
  },
  {
   "cell_type": "markdown",
   "metadata": {},
   "source": [
    "#### 2-b. 定义encoding过程\n",
    "1. input\\_embedding\n",
    "2. UnidirectionalRNNEncoder"
   ]
  },
  {
   "cell_type": "code",
   "execution_count": 7,
   "metadata": {
    "collapsed": false
   },
   "outputs": [],
   "source": [
    "# 1. input embedding\n",
    "with tf.name_scope('embedding'):\n",
    "    input_embeddings = tf.Variable(\n",
    "        tf.random_uniform([vocab_size, input_embedding_size], -1.0, 1.0),\n",
    "        dtype=tf.float32)\n",
    "\n",
    "encoder_inputs_embedded = tf.nn.embedding_lookup(input_embeddings, encoder_inputs)"
   ]
  },
  {
   "cell_type": "code",
   "execution_count": 8,
   "metadata": {
    "collapsed": false
   },
   "outputs": [
    {
     "name": "stdout",
     "output_type": "stream",
     "text": [
      "INFO:tensorflow:Creating UnidirectionalRNNEncoder in mode=train\n",
      "INFO:tensorflow:\n",
      "UnidirectionalRNNEncoder:\n",
      "  init_scale: 0.04\n",
      "  rnn_cell:\n",
      "    cell_class: BasicLSTMCell\n",
      "    cell_params: {num_units: 25}\n",
      "    dropout_input_keep_prob: 1.0\n",
      "    dropout_output_keep_prob: 1.0\n",
      "    num_layers: 1\n",
      "    residual_combiner: add\n",
      "    residual_connections: false\n",
      "    residual_dense: false\n",
      "\n"
     ]
    }
   ],
   "source": [
    "# 2. encoding with UnidirectionalRNNEncoder\n",
    "encode_fn = rnn_encoder.UnidirectionalRNNEncoder(encoder_params, tf.contrib.learn.ModeKeys.TRAIN)\n",
    "encoder_output = encode_fn(encoder_inputs_embedded, encoder_inputs_length)"
   ]
  },
  {
   "cell_type": "markdown",
   "metadata": {},
   "source": [
    "## 3. 定义decoding模型，\n",
    "\n",
    "### 训练阶段使用basic decoder\n",
    "1. input embedding\n",
    "2. helper <-- decoder_input, decoder_input_length\n",
    "3. basic_decoder.BasicDecoder"
   ]
  },
  {
   "cell_type": "code",
   "execution_count": 9,
   "metadata": {
    "collapsed": true
   },
   "outputs": [],
   "source": [
    "from seq2seq.contrib.seq2seq import helper as decode_helper\n",
    "from seq2seq.decoders import (basic_decoder, beam_search_decoder)\n",
    "from seq2seq.inference import beam_search"
   ]
  },
  {
   "cell_type": "code",
   "execution_count": 10,
   "metadata": {
    "collapsed": false
   },
   "outputs": [
    {
     "name": "stdout",
     "output_type": "stream",
     "text": [
      "INFO:tensorflow:Creating BasicDecoder in mode=train\n",
      "INFO:tensorflow:\n",
      "BasicDecoder:\n",
      "  init_scale: 0.04\n",
      "  max_decode_length: 16\n",
      "  rnn_cell:\n",
      "    cell_class: BasicLSTMCell\n",
      "    cell_params: {num_units: 25}\n",
      "    dropout_input_keep_prob: 1.0\n",
      "    dropout_output_keep_prob: 1.0\n",
      "    num_layers: 1\n",
      "    residual_combiner: add\n",
      "    residual_connections: false\n",
      "    residual_dense: false\n",
      "\n"
     ]
    }
   ],
   "source": [
    "with tf.variable_scope(\"decoder\"):\n",
    "    decode_params = basic_decoder.BasicDecoder.default_params()\n",
    "    decode_params[\"rnn_cell\"][\"cell_params\"][\"num_units\"] = decoder_hidden_units\n",
    "    decode_params[\"max_decode_length\"] = 16\n",
    "    decode_params\n",
    "\n",
    "    decoder_inputs_embedded = tf.nn.embedding_lookup(\n",
    "        input_embeddings, decoder_inputs)\n",
    "\n",
    "\n",
    "    with tf.name_scope('dec_helper'):\n",
    "        helper_ = decode_helper.TrainingHelper(\n",
    "            inputs = decoder_inputs_embedded,\n",
    "            sequence_length = decoder_inputs_length)\n",
    "\n",
    "    decoder_fn = basic_decoder.BasicDecoder(\n",
    "        params=decode_params,\n",
    "        mode = tf.contrib.learn.ModeKeys.TRAIN,\n",
    "        vocab_size=vocab_size)\n",
    "\n",
    "    decoder_output, decoder_state = decoder_fn(\n",
    "        encoder_output.final_state, helper_)\n",
    "\n"
   ]
  },
  {
   "cell_type": "markdown",
   "metadata": {},
   "source": [
    "### 测试阶段使用 beam search decoder"
   ]
  },
  {
   "cell_type": "code",
   "execution_count": 11,
   "metadata": {
    "collapsed": false
   },
   "outputs": [
    {
     "name": "stdout",
     "output_type": "stream",
     "text": [
      "INFO:tensorflow:Creating BasicDecoder in mode=infer\n",
      "INFO:tensorflow:\n",
      "BasicDecoder:\n",
      "  init_scale: 0.04\n",
      "  max_decode_length: 16\n",
      "  rnn_cell:\n",
      "    cell_class: BasicLSTMCell\n",
      "    cell_params: {num_units: 25}\n",
      "    dropout_input_keep_prob: 1.0\n",
      "    dropout_output_keep_prob: 1.0\n",
      "    num_layers: 1\n",
      "    residual_combiner: add\n",
      "    residual_connections: false\n",
      "    residual_dense: false\n",
      "\n",
      "INFO:tensorflow:Creating BeamSearchDecoder in mode=infer\n",
      "INFO:tensorflow:\n",
      "BeamSearchDecoder:\n",
      "  init_scale: 0.04\n",
      "  max_decode_length: 16\n",
      "  rnn_cell:\n",
      "    cell_class: BasicLSTMCell\n",
      "    cell_params: {num_units: 25}\n",
      "    dropout_input_keep_prob: 1.0\n",
      "    dropout_output_keep_prob: 1.0\n",
      "    num_layers: 1\n",
      "    residual_combiner: add\n",
      "    residual_connections: false\n",
      "    residual_dense: false\n",
      "\n"
     ]
    }
   ],
   "source": [
    "with tf.variable_scope(\"decoder\", reuse=True):\n",
    "\n",
    "    beam_decode_params = beam_search_decoder.BeamSearchDecoder.default_params()\n",
    "    beam_decode_params[\"rnn_cell\"][\"cell_params\"][\"num_units\"] = decoder_hidden_units\n",
    "    beam_decode_params[\"max_decode_length\"] = 16\n",
    "    beam_decode_params\n",
    "\n",
    "    config = beam_search.BeamSearchConfig(\n",
    "        beam_width = 3,\n",
    "        vocab_size = vocab_size,\n",
    "        eos_token = EOS,\n",
    "        length_penalty_weight = 0.6,\n",
    "        choose_successors_fn = beam_search.choose_top_k)\n",
    "\n",
    "    bs_decoder_fn = basic_decoder.BasicDecoder(\n",
    "        params=beam_decode_params,\n",
    "        mode = tf.contrib.learn.ModeKeys.INFER,\n",
    "        vocab_size=vocab_size)\n",
    "\n",
    "    bs_decoder_fn = beam_search_decoder.BeamSearchDecoder(\n",
    "        decoder=bs_decoder_fn,\n",
    "        config=config)\n",
    "\n",
    "    beam_helper = decode_helper.GreedyEmbeddingHelper(\n",
    "        embedding=input_embeddings,\n",
    "        start_tokens=tf.fill([config.beam_width], EOS),\n",
    "        end_token=EOS)\n",
    "\n",
    "    bs_decoder_output, _ = bs_decoder_fn(\n",
    "        encoder_output.final_state, beam_helper)"
   ]
  },
  {
   "cell_type": "code",
   "execution_count": 12,
   "metadata": {
    "collapsed": false
   },
   "outputs": [],
   "source": [
    "loss = tf.reduce_mean(\n",
    "    tf.nn.softmax_cross_entropy_with_logits(\n",
    "        labels=tf.one_hot(decoder_targets, depth=vocab_size, dtype=tf.float32),\n",
    "        logits=tf.transpose(decoder_output.logits, perm = [1, 0, 2]))\n",
    ")\n",
    "\n",
    "\"\"\"\n",
    "# 通过阅读decoder_helper的定义，\n",
    "# 输入数据是batch-major\n",
    "# 而输出数据是time-major...\n",
    "# 所以需要对输出的logits做一次transpose\n",
    "# labels: [batch_size, max_length, vocab_size]\n",
    "# logits （tranpose之前）: [max_length, batch_size, vocab_size] \n",
    "loss = tf.reduce_mean(tf.nn.sparse_softmax_cross_entropy_with_logits(\n",
    "    logits = tf.transpose(decoder_output.logits, perm=[1,0,2]), labels = decoder_targets))\n",
    "\"\"\"\n",
    "\n",
    "train_op = tf.train.AdamOptimizer(learning_rate = 0.001).minimize(loss)"
   ]
  },
  {
   "cell_type": "code",
   "execution_count": 13,
   "metadata": {
    "collapsed": true
   },
   "outputs": [],
   "source": [
    "sess.run(tf.global_variables_initializer())"
   ]
  },
  {
   "cell_type": "code",
   "execution_count": 14,
   "metadata": {
    "collapsed": true
   },
   "outputs": [],
   "source": [
    "def next_feed():\n",
    "    batch = next(batches)\n",
    "    \n",
    "    encoder_inputs_, encoder_inputs_length_ = data_helpers.batch(batch)\n",
    "    decoder_targets_, _ = data_helpers.batch(\n",
    "        [(sequence) + [EOS] for sequence in batch]\n",
    "    )\n",
    "    decoder_inputs_, decoder_inputs_length_ = data_helpers.batch(\n",
    "        [[EOS] + (sequence) for sequence in batch]\n",
    "    )\n",
    "    \n",
    "    # 在feedDict里面，key可以是一个Tensor\n",
    "    return {\n",
    "        encoder_inputs: encoder_inputs_.T,\n",
    "        decoder_inputs: decoder_inputs_.T,\n",
    "        decoder_targets: decoder_targets_.T,\n",
    "        encoder_inputs_length: encoder_inputs_length_,\n",
    "        decoder_inputs_length: decoder_inputs_length_\n",
    "    }"
   ]
  },
  {
   "cell_type": "code",
   "execution_count": 15,
   "metadata": {
    "collapsed": true
   },
   "outputs": [],
   "source": [
    "def next_sample():\n",
    "    batch = next(batches)\n",
    "    batch = batch[:1]\n",
    "    \n",
    "    encoder_inputs_, encoder_inputs_length_ = data_helpers.batch(batch)\n",
    "    decoder_targets_, _ = data_helpers.batch(\n",
    "        [(sequence) + [EOS] for sequence in batch]\n",
    "    )\n",
    "    decoder_inputs_, decoder_inputs_length_ = data_helpers.batch(\n",
    "        [[EOS] + (sequence) for sequence in batch]\n",
    "    )\n",
    "    \n",
    "    # 在feedDict里面，key可以是一个Tensor\n",
    "    return {\n",
    "        encoder_inputs: encoder_inputs_.T,\n",
    "        decoder_inputs: decoder_inputs_.T,\n",
    "        decoder_targets: decoder_targets_.T,\n",
    "        encoder_inputs_length: encoder_inputs_length_,\n",
    "        decoder_inputs_length: decoder_inputs_length_\n",
    "    }"
   ]
  },
  {
   "cell_type": "markdown",
   "metadata": {},
   "source": [
    "## 4. 我们已经定义了一个计算图, 下面开始训练模型\n",
    "\n",
    "* 图的输入端是encoder_inputs 和 encoder_inputs_length\n",
    "* 图的输出端是encoder_output\n",
    "```python\n",
    "[encoder_out1, decoder_out1, loss] = sess.run(\n",
    "    [encoder_output, decoder_output, loss], fd)\n",
    "```"
   ]
  },
  {
   "cell_type": "code",
   "execution_count": 16,
   "metadata": {
    "collapsed": false
   },
   "outputs": [
    {
     "name": "stdout",
     "output_type": "stream",
     "text": [
      "打印一个样本，人工判断有没有明显数据错误\n",
      "encoder_inputs:\n",
      "[9 8 8 5 0 0 0 0]\n",
      "encoder_inputs_length:\n",
      "4\n",
      "decoder_inputs:\n",
      "[1 9 8 8 5 0 0 0 0]\n",
      "decoder_targets:\n",
      "[9 8 8 5 1 0 0 0 0]\n"
     ]
    }
   ],
   "source": [
    "print('打印一个样本，人工判断有没有明显数据错误')\n",
    "x = next_feed()\n",
    "print('encoder_inputs:')\n",
    "print(x[encoder_inputs][0,:])\n",
    "print('encoder_inputs_length:')\n",
    "print(x[encoder_inputs_length][0])\n",
    "print('decoder_inputs:')\n",
    "print(x[decoder_inputs][0,:])\n",
    "print('decoder_targets:')\n",
    "print(x[decoder_targets][0,:])"
   ]
  },
  {
   "cell_type": "code",
   "execution_count": 18,
   "metadata": {
    "collapsed": false,
    "scrolled": true
   },
   "outputs": [
    {
     "name": "stdout",
     "output_type": "stream",
     "text": [
      "batch 0\n",
      "  minibatch loss: 2.27748441696167\n",
      "    input     > [[2 8 2 2]]\n",
      "    bs-predicted > [0 0 0 0 0 0 0 0 0 0 0 0 0 0 0 0]\n",
      "    greedy-predicted > [0 0 0 0 0]\n",
      "\n",
      "batch 100\n",
      "  minibatch loss: 1.4312806129455566\n",
      "    input     > [[4 2 4 8 9]]\n",
      "    bs-predicted > [4 8 8 8 8 0 0 0 0 0 0 0 0 0 0 0]\n",
      "    greedy-predicted > [4 8 8 8 1 1]\n",
      "\n",
      "batch 200\n",
      "  minibatch loss: 1.1081910133361816\n",
      "    input     > [[3 7 7 9 6 6 9]]\n",
      "    bs-predicted > [7 7 6 9 9 9 1]\n",
      "    greedy-predicted > [7 7 6 6 6 9 1 1]\n",
      "\n",
      "batch 300\n",
      "  minibatch loss: 0.9561477303504944\n",
      "    input     > [[5 8 9 9 3 8 7 4]]\n",
      "    bs-predicted > [3 4 7 9 9 5 5 1]\n",
      "    greedy-predicted > [3 4 5 4 4 4 5 5 1]\n",
      "\n",
      "batch 400\n",
      "  minibatch loss: 0.7419371604919434\n",
      "    input     > [[4 4 9 3 5 5]]\n",
      "    bs-predicted > [4 3 4 4 5 5 1]\n",
      "    greedy-predicted > [4 3 3 3 5 5 1]\n",
      "\n",
      "batch 500\n",
      "  minibatch loss: 0.5611813068389893\n",
      "    input     > [[9 6 6]]\n",
      "    bs-predicted > [6 9 6 1]\n",
      "    greedy-predicted > [6 6 6 1]\n",
      "\n",
      "batch 600\n",
      "  minibatch loss: 0.610073983669281\n",
      "    input     > [[3 5 3 9 3 9 7 8]]\n",
      "    bs-predicted > [3 3 5 5 5 8 4 5 1]\n",
      "    greedy-predicted > [3 3 3 3 3 5 8 8 1]\n",
      "\n",
      "batch 700\n",
      "  minibatch loss: 0.48176783323287964\n",
      "    input     > [[4 9 4 7 4 4]]\n",
      "    bs-predicted > [4 4 4 4 7 4 1]\n",
      "    greedy-predicted > [4 4 4 4 4 4 1]\n",
      "\n",
      "batch 800\n",
      "  minibatch loss: 0.4604285657405853\n",
      "    input     > [[9 7 6 3 8 4 7 6]]\n",
      "    bs-predicted > [9 6 7 3 7 8 4 6 1]\n",
      "    greedy-predicted > [9 6 6 3 8 7 7 6 1]\n",
      "\n",
      "batch 900\n",
      "  minibatch loss: 0.4721643030643463\n",
      "    input     > [[4 7 3 2 5 5]]\n",
      "    bs-predicted > [4 5 2 7 3 7 1]\n",
      "    greedy-predicted > [4 5 5 5 5 5 1]\n",
      "\n",
      "batch 1000\n",
      "  minibatch loss: 0.3527045249938965\n",
      "    input     > [[2 6 8 4]]\n",
      "    bs-predicted > [2 6 8 4 1]\n",
      "    greedy-predicted > [2 6 8 4 1]\n",
      "\n",
      "batch 1100\n",
      "  minibatch loss: 0.3623133599758148\n",
      "    input     > [[6 9 8 6 9 9]]\n",
      "    bs-predicted > [6 9 9 6 8 9 1]\n",
      "    greedy-predicted > [6 9 9 9 9 9 1]\n",
      "\n",
      "batch 1200\n",
      "  minibatch loss: 0.3246980309486389\n",
      "    input     > [[7 3 7 3]]\n",
      "    bs-predicted > [7 3 7 3 1]\n",
      "    greedy-predicted > [7 3 7 3 1]\n",
      "\n",
      "batch 1300\n",
      "  minibatch loss: 0.3277873992919922\n",
      "    input     > [[9 8 6]]\n",
      "    bs-predicted > [9 8 6 1]\n",
      "    greedy-predicted > [9 8 6 1]\n",
      "\n",
      "batch 1400\n",
      "  minibatch loss: 0.3423570394515991\n",
      "    input     > [[8 7 4 2 5 2 6]]\n",
      "    bs-predicted > [8 7 2 4 5 2 6 1]\n",
      "    greedy-predicted > [8 7 2 2 2 2 6 1]\n",
      "\n",
      "batch 1500\n",
      "  minibatch loss: 0.2811402678489685\n",
      "    input     > [[9 4 3 4 6 3 2 2]]\n",
      "    bs-predicted > [9 4 3 4 4 6 3 1]\n",
      "    greedy-predicted > [9 4 3 4 2 2 2 2 1]\n",
      "\n",
      "batch 1600\n",
      "  minibatch loss: 0.3851228356361389\n",
      "    input     > [[3 8 3 4]]\n",
      "    bs-predicted > [3 8 3 4 1]\n",
      "    greedy-predicted > [3 8 3 4 1]\n",
      "\n",
      "batch 1700\n",
      "  minibatch loss: 0.38745227456092834\n",
      "    input     > [[9 3 8 7 2 7 3]]\n",
      "    bs-predicted > [3 9 8 7 2 3 7 1]\n",
      "    greedy-predicted > [3 3 8 7 2 3 3 1]\n",
      "\n",
      "batch 1800\n",
      "  minibatch loss: 0.26145654916763306\n",
      "    input     > [[6 6 5 4 5]]\n",
      "    bs-predicted > [6 6 5 4 5 1]\n",
      "    greedy-predicted > [6 6 5 4 5 1]\n",
      "\n",
      "batch 1900\n",
      "  minibatch loss: 0.3621230125427246\n",
      "    input     > [[6 2 3 5 3 7]]\n",
      "    bs-predicted > [6 2 3 5 3 7 1]\n",
      "    greedy-predicted > [6 2 3 5 3 7 1]\n",
      "\n",
      "batch 2000\n",
      "  minibatch loss: 0.28665921092033386\n",
      "    input     > [[3 8 8 5 4 5 2]]\n",
      "    bs-predicted > [3 8 8 5 4 2 5 1]\n",
      "    greedy-predicted > [3 8 8 5 4 2 2 1]\n",
      "\n",
      "batch 2100\n",
      "  minibatch loss: 0.16741973161697388\n",
      "    input     > [[4 9 5 9 2 4 7 2]]\n",
      "    bs-predicted > [9 4 5 4 2 9 7 2 1]\n",
      "    greedy-predicted > [9 9 5 9 2 4 7 2 1]\n",
      "\n",
      "batch 2200\n",
      "  minibatch loss: 0.19885395467281342\n",
      "    input     > [[6 5 3 8 7 7]]\n",
      "    bs-predicted > [6 6 3 7 8 6 1]\n",
      "    greedy-predicted > [6 5 3 7 7 7 1]\n",
      "\n",
      "batch 2300\n",
      "  minibatch loss: 0.22795645892620087\n",
      "    input     > [[5 2 2 9 6]]\n",
      "    bs-predicted > [2 5 9 2 6 1]\n",
      "    greedy-predicted > [2 2 2 9 6 1]\n",
      "\n",
      "batch 2400\n",
      "  minibatch loss: 0.24589215219020844\n",
      "    input     > [[7 6 2 5 8]]\n",
      "    bs-predicted > [7 6 2 5 8 1]\n",
      "    greedy-predicted > [7 6 2 5 8 1]\n",
      "\n",
      "batch 2500\n",
      "  minibatch loss: 0.21649396419525146\n",
      "    input     > [[6 9 9]]\n",
      "    bs-predicted > [9 6 9 1]\n",
      "    greedy-predicted > [9 9 9 1]\n",
      "\n",
      "batch 2600\n",
      "  minibatch loss: 0.2720661759376526\n",
      "    input     > [[6 2 3 2 4]]\n",
      "    bs-predicted > [6 2 3 2 4 1]\n",
      "    greedy-predicted > [6 2 3 2 4 1]\n",
      "\n",
      "batch 2700\n",
      "  minibatch loss: 0.22497829794883728\n",
      "    input     > [[7 2 8 2 4]]\n",
      "    bs-predicted > [7 2 8 2 4 1]\n",
      "    greedy-predicted > [7 2 8 2 4 1]\n",
      "\n",
      "batch 2800\n",
      "  minibatch loss: 0.27677884697914124\n",
      "    input     > [[3 8 8]]\n",
      "    bs-predicted > [3 8 8 1]\n",
      "    greedy-predicted > [3 8 8 1]\n",
      "\n",
      "batch 2900\n",
      "  minibatch loss: 0.18732532858848572\n",
      "    input     > [[7 9 3 7 6 2 6 7]]\n",
      "    bs-predicted > [7 9 3 7 6 2 9 7 1]\n",
      "    greedy-predicted > [7 9 3 7 6 2 6 7 1]\n",
      "\n",
      "batch 3000\n",
      "  minibatch loss: 0.24787378311157227\n",
      "    input     > [[8 5 2 5 4 7]]\n",
      "    bs-predicted > [8 5 2 5 4 7 1]\n",
      "    greedy-predicted > [8 5 2 5 4 7 1]\n",
      "\n"
     ]
    }
   ],
   "source": [
    "max_batches = 3001\n",
    "batches_in_epoch = 100\n",
    "loss_track = []\n",
    "\n",
    "try:\n",
    "    # 一个epoch的learning\n",
    "    for batch in range(max_batches):\n",
    "        fd = next_feed()\n",
    "        _, l = sess.run([train_op, loss], fd)\n",
    "        loss_track.append(l)\n",
    "        \n",
    "        if batch == 0 or batch % batches_in_epoch == 0:\n",
    "            print('batch {}'.format(batch))\n",
    "            print('  minibatch loss: {}'.format(sess.run(loss, fd)))\n",
    "            \n",
    "            fd = next_sample()\n",
    "            predict_bs_, predict_ = sess.run(\n",
    "                [bs_decoder_output.beam_search_output, decoder_output],\n",
    "                fd)\n",
    "            \n",
    "            print('    input     > {}'.format(fd[encoder_inputs]))\n",
    "            print('    bs-predicted > {}'.format(predict_bs_.predicted_ids[:,0,0]))\n",
    "            print('    greedy-predicted > {}'.format(predict_.predicted_ids[:,0]))\n",
    "            print()\n",
    "        \n",
    "except KeyboardInterrupt:\n",
    "    print('training interrupted')"
   ]
  },
  {
   "cell_type": "code",
   "execution_count": 35,
   "metadata": {
    "collapsed": false
   },
   "outputs": [
    {
     "name": "stdout",
     "output_type": "stream",
     "text": [
      "loss 0.8906 after 3010 examples (batch_size=10)\n"
     ]
    },
    {
     "data": {
      "image/png": "[encoded data removed]",
      "text/plain": [
       "<matplotlib.figure.Figure at 0x7f5b3731e358>"
      ]
     },
     "metadata": {},
     "output_type": "display_data"
    }
   ],
   "source": [
    "%matplotlib inline\n",
    "import matplotlib.pyplot as plt\n",
    "plt.plot(loss_track)\n",
    "print('loss {:.4f} after {} examples (batch_size={})'.format(loss_track[-1], len(loss_track)*batch_size, batch_size))"
   ]
  }
 ],
 "metadata": {
  "kernelspec": {
   "display_name": "Python 3",
   "language": "python",
   "name": "python3"
  },
  "language_info": {
   "codemirror_mode": {
    "name": "ipython",
    "version": 3
   },
   "file_extension": ".py",
   "mimetype": "text/x-python",
   "name": "python",
   "nbconvert_exporter": "python",
   "pygments_lexer": "ipython3",
   "version": "3.6.0"
  }
 },
 "nbformat": 4,
 "nbformat_minor": 2
}
