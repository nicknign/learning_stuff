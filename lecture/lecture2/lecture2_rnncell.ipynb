{
 "cells": [
  {
   "cell_type": "markdown",
   "metadata": {},
   "source": [
    "# 一些简单的demo，显示tf里面rnn/gru和lstm cell的区别"
   ]
  },
  {
   "cell_type": "code",
   "execution_count": 1,
   "metadata": {
    "collapsed": true
   },
   "outputs": [],
   "source": [
    "import logging\n",
    "import time\n",
    "import numpy as np\n",
    "import tensorflow as tf"
   ]
  },
  {
   "cell_type": "code",
   "execution_count": 23,
   "metadata": {
    "collapsed": true
   },
   "outputs": [],
   "source": [
    "batch_size = 16\n",
    "dropout = 0.0\n",
    "embedding_size = 64\n",
    "hidden_size = 128\n",
    "input_dropout = 0.0\n",
    "learning_rate = 0.005\n",
    "max_grad_norm = 5.0\n",
    "model = 'rnn'\n",
    "num_layers = 2\n",
    "num_unrollings = 10\n",
    "vocab_size = 26\n",
    "is_training = True"
   ]
  },
  {
   "cell_type": "code",
   "execution_count": 24,
   "metadata": {
    "collapsed": true
   },
   "outputs": [],
   "source": [
    "sess = tf.InteractiveSession()"
   ]
  },
  {
   "cell_type": "code",
   "execution_count": 25,
   "metadata": {
    "collapsed": true
   },
   "outputs": [],
   "source": [
    "if model == 'rnn':\n",
    "    cell_fn = tf.nn.rnn_cell.BasicRNNCell\n",
    "elif model == 'lstm':\n",
    "    cell_fn = tf.nn.rnn_cell.BasicLSTMCell\n",
    "elif model == 'gru':\n",
    "    cell_fn = tf.nn.rnn_cell.GRUCell"
   ]
  },
  {
   "cell_type": "code",
   "execution_count": 26,
   "metadata": {
    "collapsed": true
   },
   "outputs": [],
   "source": [
    "params = dict()\n",
    "if model == 'lstm':\n",
    "    params['forget_bias'] = 1.0  # 1.0 is default value\n",
    "cell = cell_fn(hidden_size, **params)\n",
    "\n",
    "cells = [cell]\n",
    "for i in range(num_layers-1):\n",
    "    higher_layer_cell = cell_fn(hidden_size, **params)\n",
    "    cells.append(higher_layer_cell)\n",
    "    \n",
    "multi_cell = tf.nn.rnn_cell.MultiRNNCell(cells)"
   ]
  },
  {
   "cell_type": "markdown",
   "metadata": {},
   "source": [
    "### tf built in cell有一个zero_state方法"
   ]
  },
  {
   "cell_type": "code",
   "execution_count": 27,
   "metadata": {
    "collapsed": false
   },
   "outputs": [
    {
     "data": {
      "text/plain": [
       "(<tf.Tensor 'MultiRNNCellZeroState_2/BasicRNNCellZeroState/zeros:0' shape=(16, 128) dtype=float32>,\n",
       " <tf.Tensor 'MultiRNNCellZeroState_2/BasicRNNCellZeroState_1/zeros:0' shape=(16, 128) dtype=float32>)"
      ]
     },
     "execution_count": 27,
     "metadata": {},
     "output_type": "execute_result"
    }
   ],
   "source": [
    "multi_cell.zero_state(batch_size, tf.float32)"
   ]
  },
  {
   "cell_type": "markdown",
   "metadata": {},
   "source": [
    "* zero\\_state if the rnn\\_cell is 'rnn' or 'gru'\n",
    "```python\n",
    "(<tf.Tensor 'MultiRNNCellZeroState/GRUCellZeroState/zeros:0' shape=(16, 128) dtype=float32>,\n",
    " <tf.Tensor 'MultiRNNCellZeroState/GRUCellZeroState_1/zeros:0' shape=(16, 128) dtype=float32>)\n",
    "```\n",
    "\n",
    "* zero\\_state if the rnn\\_cell is 'lstm'\n",
    "```python\n",
    "(LSTMStateTuple(c=<tf.Tensor 'MultiRNNCellZeroState/BasicLSTMCellZeroState/zeros:0' shape=(16, 128) dtype=float32>, h=<tf.Tensor 'MultiRNNCellZeroState_3/BasicLSTMCellZeroState/zeros_1:0' shape=(16, 128) dtype=float32>),\n",
    " LSTMStateTuple(c=<tf.Tensor 'MultiRNNCellZeroState/BasicLSTMCellZeroState_1/zeros:0' shape=(16, 128) dtype=float32>, h=<tf.Tensor 'MultiRNNCellZeroState_3/BasicLSTMCellZeroState_1/zeros_1:0' shape=(16, 128) dtype=float32>))\n",
    "```"
   ]
  },
  {
   "cell_type": "markdown",
   "metadata": {},
   "source": [
    "### 我们产生可以 feed 给init_state的 zero array"
   ]
  },
  {
   "cell_type": "code",
   "execution_count": 29,
   "metadata": {
    "collapsed": false
   },
   "outputs": [],
   "source": [
    "\n",
    "with tf.name_scope('initial_state'):\n",
    "    zero_state = multi_cell.zero_state(batch_size, tf.float32)\n",
    "    if model == 'rnn' or model == 'gru':\n",
    "        initial_state = tuple(\n",
    "            [tf.placeholder(tf.float32,\n",
    "                            [batch_size, multi_cell.state_size[idx]],\n",
    "                            'initial_state_'+str(idx+1))\n",
    "             for idx in range(num_layers)])\n",
    "    elif model == 'lstm':\n",
    "        initial_state = tuple(\n",
    "            [tf.nn.rnn_cell.LSTMStateTuple(\n",
    "                tf.placeholder(tf.float32, [batch_size, multi_cell.state_size[idx][0]],\n",
    "                               'initial_lstm_state_'+str(idx+1)),\n",
    "                tf.placeholder(tf.float32, [batch_size, multi_cell.state_size[idx][1]],\n",
    "                               'initial_lstm_state_'+str(idx+1)))\n",
    "             for idx in range(num_layers)])"
   ]
  },
  {
   "cell_type": "markdown",
   "metadata": {},
   "source": [
    "* state\\_size if the rnn\\_cell is 'rnn' or 'gru'\n",
    "```python\n",
    "(128, 128)\n",
    "```\n",
    "* state\\_size if the rnn\\_cell is 'lstm'\n",
    "```python\n",
    "(LSTMStateTuple(c=128, h=128), LSTMStateTuple(c=128, h=128))\n",
    "```"
   ]
  }
 ],
 "metadata": {
  "kernelspec": {
   "display_name": "Python 2",
   "language": "python",
   "name": "python2"
  },
  "language_info": {
   "codemirror_mode": {
    "name": "ipython",
    "version": 2
   },
   "file_extension": ".py",
   "mimetype": "text/x-python",
   "name": "python",
   "nbconvert_exporter": "python",
   "pygments_lexer": "ipython2",
   "version": "2.7.10"
  }
 },
 "nbformat": 4,
 "nbformat_minor": 2
}
