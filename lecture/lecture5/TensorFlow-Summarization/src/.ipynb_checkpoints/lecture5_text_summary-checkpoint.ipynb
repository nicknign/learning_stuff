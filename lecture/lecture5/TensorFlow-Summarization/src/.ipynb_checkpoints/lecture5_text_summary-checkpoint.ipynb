{
 "cells": [
  {
   "cell_type": "code",
   "execution_count": 1,
   "metadata": {
    "collapsed": true
   },
   "outputs": [],
   "source": [
    "import logging\n",
    "import math\n",
    "import os\n",
    "import random\n",
    "import sys\n",
    "import time\n",
    "\n",
    "import numpy as np\n",
    "import tensorflow as tf\n",
    "\n",
    "import bigru_model\n",
    "import data_util\n"
   ]
  },
  {
   "cell_type": "code",
   "execution_count": 13,
   "metadata": {
    "collapsed": true
   },
   "outputs": [],
   "source": [
    "model = ['model', '140000']\n",
    "ckpt = '../model/model.ckpt-140000'\n",
    "datasets = [\"giga\", \"duc2003\", \"duc2004\"]\n",
    "geneos = [True, False, False]\n",
    "beam_searchs = [1, 10]\n",
    "\n",
    "test_params = {\n",
    "    \"--decode\": True,\n",
    "    \"--fast_decode\": True\n",
    "}\n",
    "\n",
    "#model_path = \"model/\"\n",
    "#model_pattern = \"model/{}.ckpt-{}\"\n",
    "data_pattern = \"data/test.{}.txt\"\n",
    "OUTPUT_DIR = \"../output/\"\n",
    "OUTPUT_PATTERN = OUTPUT_DIR + \"{dataset}.{description}.txt\"\n",
    "#MAX_KEEP = 1\n"
   ]
  },
  {
   "cell_type": "code",
   "execution_count": 14,
   "metadata": {
    "collapsed": false
   },
   "outputs": [],
   "source": [
    "logging.info(\"Test {}. \".format(ckpt))\n",
    "for dataset, tag in zip(datasets, geneos):\n",
    "    for beam_search in beam_searchs:\n",
    "        logging.info(\"Test {} with beam_size = {}\".format(\n",
    "            data_pattern.format(dataset), beam_search))\n",
    "        output_file = OUTPUT_PATTERN.format(dataset=dataset,\n",
    "            description=str(beam_search)+\"_\"+str(model[1]))\n",
    "        if os.path.exists(output_file):\n",
    "            logging.info(\"{} exists, skip testing\".format(output_file))\n",
    "            continue\n",
    "        \n",
    "        proc = [\"python3\", \"src/summarization.py\",\n",
    "                \"--test_file\", data_pattern.format(dataset),\n",
    "                \"--batch_size\", str(beam_search),\n",
    "                \"--test_output\", output_file,\n",
    "                \"--geneos\", str(tag),\n",
    "                \"--checkpoint\", ckpt]\n",
    "        \n",
    "        for k, v in test_params.items():\n",
    "            proc.append(k)\n",
    "            proc.append(str(v))\n",
    "        \"\"\"\n",
    "        subprocess.call(proc)\n",
    "        \"\"\""
   ]
  },
  {
   "cell_type": "code",
   "execution_count": 15,
   "metadata": {
    "collapsed": false
   },
   "outputs": [
    {
     "data": {
      "text/plain": [
       "['python3',\n",
       " 'src/summarization.py',\n",
       " '--test_file',\n",
       " 'data/test.duc2004.txt',\n",
       " '--batch_size',\n",
       " '10',\n",
       " '--test_output',\n",
       " '../output/duc2004.10_140000.txt',\n",
       " '--geneos',\n",
       " 'False',\n",
       " '--checkpoint',\n",
       " '../model/model.ckpt-140000',\n",
       " '--decode',\n",
       " 'True',\n",
       " '--fast_decode',\n",
       " 'True']"
      ]
     },
     "execution_count": 15,
     "metadata": {},
     "output_type": "execute_result"
    }
   ],
   "source": [
    "proc"
   ]
  },
  {
   "cell_type": "code",
   "execution_count": null,
   "metadata": {
    "collapsed": true
   },
   "outputs": [],
   "source": [
    "doc_dict = data_util.load_dict(\"../data/doc_dict.txt\")\n",
    "sum_dict = data_util.load_dict(\"../data/sum_dict.txt\")\n",
    "if doc_dict is None or sum_dict is None:\n",
    "    logging.warning(\"Dict not found.\")\n",
    "data = data_util.load_test_data(FLAGS.test_file, doc_dict)\n"
   ]
  }
 ],
 "metadata": {
  "kernelspec": {
   "display_name": "Python 3",
   "language": "python",
   "name": "python3"
  },
  "language_info": {
   "codemirror_mode": {
    "name": "ipython",
    "version": 3
   },
   "file_extension": ".py",
   "mimetype": "text/x-python",
   "name": "python",
   "nbconvert_exporter": "python",
   "pygments_lexer": "ipython3",
   "version": "3.6.0"
  }
 },
 "nbformat": 4,
 "nbformat_minor": 2
}
