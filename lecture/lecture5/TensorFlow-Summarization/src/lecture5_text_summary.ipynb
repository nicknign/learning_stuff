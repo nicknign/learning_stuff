{
 "cells": [
  {
   "cell_type": "code",
   "execution_count": 1,
   "metadata": {
    "collapsed": false
   },
   "outputs": [],
   "source": [
    "import logging\n",
    "import math\n",
    "import os\n",
    "import random\n",
    "import sys\n",
    "import time\n",
    "\n",
    "import numpy as np\n",
    "import tensorflow as tf\n",
    "\n",
    "import bigru_model\n",
    "import data_util\n"
   ]
  },
  {
   "cell_type": "code",
   "execution_count": 2,
   "metadata": {
    "collapsed": true
   },
   "outputs": [],
   "source": [
    "model = ['model', '140000']\n",
    "ckpt = '../model/model.ckpt-140000'\n",
    "datasets = [\"giga\", \"duc2003\", \"duc2004\"]\n",
    "geneos = [True, False, False]\n",
    "beam_searchs = [1, 10]\n",
    "\n",
    "test_params = {\n",
    "    \"--decode\": True,\n",
    "    \"--fast_decode\": True\n",
    "}\n",
    "\n",
    "data_pattern = \"data/test.{}.txt\"\n",
    "OUTPUT_DIR = \"../output/\"\n",
    "OUTPUT_PATTERN = OUTPUT_DIR + \"{dataset}.{description}.txt\""
   ]
  },
  {
   "cell_type": "code",
   "execution_count": 3,
   "metadata": {
    "collapsed": true
   },
   "outputs": [],
   "source": [
    "doc_dict = data_util.load_dict(\"../data/doc_dict.txt\")\n",
    "sum_dict = data_util.load_dict(\"../data/sum_dict.txt\")\n",
    "if doc_dict is None or sum_dict is None:\n",
    "    logging.warning(\"Dict not found.\")"
   ]
  },
  {
   "cell_type": "code",
   "execution_count": 4,
   "metadata": {
    "collapsed": false
   },
   "outputs": [
    {
     "name": "stdout",
     "output_type": "stream",
     "text": [
      "cambodian leader hun sen on friday rejected opposition parties ' demands for talks outside the country , accusing them of trying to `` <UNK> '' the political crisis .\n",
      "\n",
      "king norodom sihanouk has declined requests to chair a summit of cambodia 's top political leaders , saying the meeting would not bring any progress in deadlocked negotiations to form a government .\n",
      "\n",
      "cambodia 's <UNK> opposition asked the asian development bank monday to stop providing loans to the incumbent government , which it calls illegal .\n",
      "\n"
     ]
    }
   ],
   "source": [
    "test_file = '../data/test.udc2004.txt'\n",
    "data = data_util.load_test_data(test_file, doc_dict)\n",
    "\n",
    "for i in range(3):\n",
    "    data_in = data[i]\n",
    "    data_str = ' '.join([doc_dict[1][x] for x in data_in])\n",
    "    print('%s\\n' % data_str)"
   ]
  },
  {
   "cell_type": "code",
   "execution_count": 5,
   "metadata": {
    "collapsed": false
   },
   "outputs": [],
   "source": [
    "tf.app.flags.DEFINE_float(\"learning_rate\", 1., \"Learning rate.\")\n",
    "tf.app.flags.DEFINE_integer(\"size\", 400, \"Size of hidden layers.\")\n",
    "tf.app.flags.DEFINE_integer(\"embsize\", 200, \"Size of embedding.\")\n",
    "tf.app.flags.DEFINE_integer(\"num_layers\", 1, \"Number of layers in the model.\")\n",
    "tf.app.flags.DEFINE_string(\"data_dir\", \"data\", \"Data directory\")\n",
    "tf.app.flags.DEFINE_string(\"test_file\", \"\", \"Test filename.\")\n",
    "tf.app.flags.DEFINE_string(\"test_output\", \"output.txt\", \"Test output.\")\n",
    "tf.app.flags.DEFINE_string(\"train_dir\", \"model\", \"Training directory.\")\n",
    "tf.app.flags.DEFINE_string(\"tfboard\", \"tfboard\", \"Tensorboard log directory.\")\n",
    "tf.app.flags.DEFINE_boolean(\"decode\", False, \"Set to True for testing.\")\n",
    "tf.app.flags.DEFINE_boolean(\"geneos\", True, \"Do not generate EOS. \")\n",
    "tf.app.flags.DEFINE_float(\n",
    "    \"max_gradient\", 1.0, \"Clip gradients l2 norm to this range.\")\n",
    "tf.app.flags.DEFINE_integer(\n",
    "    \"batch_size\", 10, \"Batch size in training / beam size in testing.\")\n",
    "tf.app.flags.DEFINE_integer(\n",
    "    \"doc_vocab_size\", 30000, \"Document vocabulary size.\")\n",
    "tf.app.flags.DEFINE_integer(\n",
    "    \"sum_vocab_size\", 30000, \"Summary vocabulary size.\")\n",
    "tf.app.flags.DEFINE_integer(\n",
    "    \"max_train\", 0, \"Limit on the size of training data (0: no limit).\")\n",
    "tf.app.flags.DEFINE_integer(\n",
    "    \"max_iter\", 1000000, \"Maximum training iterations.\")\n",
    "tf.app.flags.DEFINE_integer(\n",
    "    \"steps_per_validation\", 1000, \"Training steps between validations.\")\n",
    "tf.app.flags.DEFINE_integer(\n",
    "    \"steps_per_checkpoint\", 10000, \"Training steps between checkpoints.\")\n",
    "tf.app.flags.DEFINE_string(\n",
    "    \"checkpoint\", \"\", \"Checkpoint to load (use up-to-date if not set)\")\n",
    "\n",
    "FLAGS = tf.app.flags.FLAGS\n"
   ]
  },
  {
   "cell_type": "code",
   "execution_count": 6,
   "metadata": {
    "collapsed": false
   },
   "outputs": [],
   "source": [
    "_buckets = [(30, 10), (50, 20), (70, 20), (100, 20), (200, 30)]\n",
    "\n",
    "logging.info(\"Creating %d layers of %d units.\" %\n",
    "             (FLAGS.num_layers, FLAGS.size))"
   ]
  },
  {
   "cell_type": "code",
   "execution_count": 7,
   "metadata": {
    "collapsed": false
   },
   "outputs": [],
   "source": [
    "tf.reset_default_graph()\n",
    "sess = tf.InteractiveSession()"
   ]
  },
  {
   "cell_type": "code",
   "execution_count": 8,
   "metadata": {
    "collapsed": false
   },
   "outputs": [],
   "source": [
    "dtype = tf.float32\n",
    "forward_only = True\n",
    "model = bigru_model.BiGRUModel(\n",
    "    FLAGS.doc_vocab_size,\n",
    "    FLAGS.sum_vocab_size,\n",
    "    _buckets,\n",
    "    FLAGS.size,\n",
    "    FLAGS.num_layers,\n",
    "    FLAGS.embsize,\n",
    "    FLAGS.max_gradient,\n",
    "    FLAGS.batch_size,\n",
    "    FLAGS.learning_rate,\n",
    "    forward_only=forward_only,\n",
    "    dtype=dtype)"
   ]
  },
  {
   "cell_type": "code",
   "execution_count": 9,
   "metadata": {
    "collapsed": false
   },
   "outputs": [
    {
     "name": "stdout",
     "output_type": "stream",
     "text": [
      "INFO:tensorflow:Restoring parameters from ../model/model.ckpt-140000\n"
     ]
    },
    {
     "name": "stderr",
     "output_type": "stream",
     "text": [
      "INFO:tensorflow:Restoring parameters from ../model/model.ckpt-140000\n"
     ]
    }
   ],
   "source": [
    "ckpt = '../model/model.ckpt-140000'\n",
    "logging.info(\"从 %s 读入模型参数\" % ckpt)\n",
    "model.saver.restore(sess, ckpt)"
   ]
  },
  {
   "cell_type": "code",
   "execution_count": 10,
   "metadata": {
    "collapsed": false
   },
   "outputs": [
    {
     "name": "stdout",
     "output_type": "stream",
     "text": [
      "cambodian leader hun sen on friday rejected opposition parties ' demands for talks outside the country , accusing them of trying to `` <UNK> '' the political crisis .\n",
      "\n",
      "king norodom sihanouk has declined requests to chair a summit of cambodia 's top political leaders , saying the meeting would not bring any progress in deadlocked negotiations to form a government .\n",
      "\n",
      "cambodia 's <UNK> opposition asked the asian development bank monday to stop providing loans to the incumbent government , which it calls illegal .\n",
      "\n"
     ]
    }
   ],
   "source": [
    "for idx in range(3):\n",
    "    token_ids = data[idx]\n",
    "    data_str = ' '.join([doc_dict[1][x] for x in token_ids])\n",
    "    print('%s\\n' % data_str)"
   ]
  },
  {
   "cell_type": "markdown",
   "metadata": {},
   "source": [
    "cambodian leader hun sen on friday rejected opposition parties ' demands for talks outside the country , accusing them of trying to `<UNK>` the political crisis .\n",
    "\n",
    "柬埔寨领导人星期五拒绝了反对党在国外进行谈判的要求，指责他们试图`<unk>`政治危机。\n",
    "\n",
    "king norodom sihanouk has declined requests to chair a summit of cambodia 's top political leaders , saying the meeting would not bring any progress in deadlocked negotiations to form a government .\n",
    "\n",
    "国王诺罗蒙·西哈努克国王拒绝主持首脑会议的柬埔寨最高政治领导人的话，说会议不会在僵局谈判中取得任何进展，形成政府。\n",
    "\n",
    "cambodia 's `<UNK>` opposition asked the asian development bank monday to stop providing loans to the incumbent government , which it calls illegal .\n",
    "\n",
    "柬埔寨的反对派要求亚洲开发银行星期一停止向现任政府提供贷款，这称为非法活动。"
   ]
  },
  {
   "cell_type": "code",
   "execution_count": 11,
   "metadata": {
    "collapsed": false
   },
   "outputs": [],
   "source": [
    "outputs = []\n",
    "inputs = []\n",
    "\n",
    "for idx in range(0, 100, 10):\n",
    "    token_ids = data[idx]\n",
    "    # Get a 1-element batch to feed the sentence to the model.\n",
    "    encoder_inputs, decoder_inputs, encoder_len, decoder_len =\\\n",
    "    model.get_batch(\n",
    "        {0: [(token_ids, [data_util.ID_GO, data_util.ID_EOS])]}, 0)\n",
    "    inputs.append(token_ids)\n",
    "    outputs.append(model.step_beam(\n",
    "        sess, encoder_inputs, encoder_len, geneos=FLAGS.geneos))"
   ]
  },
  {
   "cell_type": "code",
   "execution_count": 12,
   "metadata": {
    "collapsed": false
   },
   "outputs": [
    {
     "name": "stdout",
     "output_type": "stream",
     "text": [
      "cambodian leader hun sen on friday rejected opposition parties ' demands for talks outside the country , accusing them of trying to `` <UNK> '' the political crisis .\n",
      "\n",
      "cambodian leader rejects opposition demands for talks\n",
      "\n",
      "\n",
      "honduras braced for potential catastrophe tuesday as hurricane mitch roared through the northwest caribbean , churning up high waves and intense rain that sent coastal residents scurrying for safer ground .\n",
      "\n",
      "honduras braces for potential catastrophe\n",
      "\n",
      "\n",
      "cuban president fidel castro said sunday he disagreed with the arrest in london of former chilean dictator augusto pinochet , calling it a case of `` international meddling . ''\n",
      "\n",
      "castro says he disagrees with arrest of pinochet\n",
      "\n",
      "\n",
      "u.s. prosecutors have asked for a ##-day extension to provide germany with paperwork necessary to extradite a top lieutenant of saudi terrorist suspect osama bin laden , officials said saturday .\n",
      "\n",
      "prosecutors ask for extension to extradite bin laden suspect\n",
      "\n",
      "\n",
      "in a critical ruling for the north american national basketball association and the players ' union , arbitrator john <UNK> decides monday whether more than ### players with guaranteed contracts should be paid during the lockout .\n",
      "\n",
      "<UNK> wants more than ### players\n",
      "\n",
      "\n",
      "rebels attacked a village in western uganda and killed six civilians before soldiers drove them off , a military spokesman said thursday .\n",
      "\n",
      "rebels attack village in western uganda\n",
      "\n",
      "\n",
      "indonesian president <UNK> , habibie finds attending a summit of asia-pacific leaders `` difficult '' because of his concerns about the arrest of malaysia 's former deputy prime minister , a thai newspaper reported sunday .\n",
      "\n",
      "indonesian president says <UNK> summit difficult\n",
      "\n",
      "\n",
      "israel 's cabinet announced within hours of a market bombing friday that it will put off a vote indefinitely on whether to ratify the <UNK> river accord until palestinians crack down further on terrorism .\n",
      "\n",
      "israeli cabinet to put off vote\n",
      "\n",
      "\n",
      "bruises on the face of jailed dissident anwar ibrahim , splashed on newspaper front pages for two days and downloaded from the internet , are <UNK> the image of malaysian police .\n",
      "\n",
      "malaysia 's anwar <UNK> 's image\n",
      "\n",
      "\n",
      "u.s. special envoy richard holbrooke said monday the military situation in kosovo was as bad now as two weeks ago .\n",
      "\n",
      "holbrooke says situation in kosovo\n",
      "\n",
      "\n"
     ]
    }
   ],
   "source": [
    "# If there is an EOS symbol in outputs, cut them at that point.\n",
    "for (input_, output_) in zip(inputs, outputs):\n",
    "    if data_util.ID_EOS in output_:\n",
    "        gen_inp = \" \".join(data_util.sen_map2tok(input_, doc_dict[1]))\n",
    "        gen_inp = data_util.sen_postprocess(gen_inp)\n",
    "        print('%s\\n' % gen_inp)\n",
    "        output_ = output_[:output_.index(data_util.ID_EOS)]\n",
    "        gen_sum = \" \".join(data_util.sen_map2tok(output_, sum_dict[1]))\n",
    "        gen_sum = data_util.sen_postprocess(gen_sum)\n",
    "        print('%s\\n\\n' % gen_sum)"
   ]
  },
  {
   "cell_type": "markdown",
   "metadata": {},
   "source": [
    "1. \n",
    "    * cambodian leader hun sen on friday rejected opposition parties ' demands for talks outside the country , accusing them of trying to `<UNK>` the political crisis .\n",
    "    * 柬埔寨领导人星期五拒绝了反对党在国外进行谈判的要求，指责他们试图“拒绝”政治危机。\n",
    "    * cambodian leader rejects opposition demands for talks\n",
    "    * 柬埔寨领导人反对反对的谈判要求\n",
    "\n",
    "2. \n",
    "    * honduras braced for potential catastrophe tuesday as hurricane mitch roared through the northwest caribbean , churning up high waves and intense rain that sent coastal residents scurrying for safer ground .\n",
    "    * 洪都拉斯抵抗潜在的灾难，因为飓风米奇咆哮着通过西北加勒比地区，搅动了高波浪和强烈的下雨，使沿海居民为更安全的地面而起飞。\n",
    "    * honduras braces for potential catastrophe\n",
    "    * 洪都拉斯支配潜在的灾难\n",
    "\n",
    "3. \n",
    "    * cuban president fidel castro said sunday he disagreed with the arrest in london of former chilean dictator augusto pinochet , calling it a case of '' international meddling . ''\n",
    "    * 古巴总统费德尔·卡斯特罗说，他星期天不同意在前司令奥古斯丁·皮诺切特在伦敦被捕，称之为“国际干涉”。 “”\n",
    "    * castro says he disagrees with arrest of pinochet\n",
    "    * 卡斯特罗说，他不同意逮捕轻罪\n",
    "\n",
    "4. \n",
    "    * u.s. prosecutors have asked for a ##-day extension to provide germany with paperwork necessary to extradite a top lieutenant of saudi terrorist suspect osama bin laden , officials said saturday .\n",
    "    * 我们。官员星期六说，检察官已经要求延长日期，为德国提供必要的文书工作，以引渡沙特恐怖嫌疑人奥萨马·本·拉登的顶尖中尉。\n",
    "    * prosecutors ask for extension to extradite bin laden suspect\n",
    "    * 检察机关要求延长引渡人员的嫌犯\n",
    "\n",
    "5. \n",
    "    * in a critical ruling for the north american national basketball association and the players ' union , arbitrator john `<UNK>` decides monday whether more than ### players with guaranteed contracts should be paid during the lockout .\n",
    "    * 在北美国家篮球协会和球员工会，仲裁员约翰·`<UNK>`关键裁决决定是否周一超过###的球员保障合同应该在停摆期间支付。\n",
    "    * `<UNK>` wants more than ### players\n",
    "    * `<UNK>`要超过###的球员\n",
    "\n",
    "6. \n",
    "    * rebels attacked a village in western uganda and killed six civilians before soldiers drove them off , a military spokesman said thursday .\n",
    "    * 一名军事发言人星期四说，反叛分子袭击了乌干达西部的一个村庄，造成六名平民死亡，士兵们将他们赶走。\n",
    "    * rebels attack village in western uganda\n",
    "    * 叛乱分子袭击乌干达西部的村庄\n",
    "\n",
    "7. \n",
    "    * indonesian president `<UNK>` , habibie finds attending a summit of asia-pacific leaders '' difficult '' because of his concerns about the arrest of malaysia 's former deputy prime minister , a thai newspaper reported sunday .\n",
    "    * 印度尼西亚总统伊斯兰教，哈比比发现参加亚太地区领导人首脑会议“困难”，因为他担心马来西亚前副总理被捕，一名泰国报纸上周日报道。\n",
    "    * indonesian president says `<UNK>` summit difficult\n",
    "    * 印尼总统称`<UNK>`峰会难\n",
    "\n",
    "8. \n",
    "    * israel 's cabinet announced within hours of a market bombing friday that it will put off a vote indefinitely on whether to ratify the `<UNK>` river accord until palestinians crack down further on terrorism .\n",
    "    * 以色列内阁市场轰炸小时内周五宣布，它将推迟表决无限期，直到巴勒斯坦人进一步打击恐怖主义是否批准`<UNK>`河流一致。\n",
    "    * israeli cabinet to put off vote\n",
    "    * 以色列内阁推迟投票\n",
    "\n",
    "9. \n",
    "    * bruises on the face of jailed dissident anwar ibrahim , splashed on newspaper front pages for two days and downloaded from the internet , are `<UNK>` the image of malaysian police .\n",
    "    * 面对被监禁的持不同政见者伊娃的脸上的瘀伤，在报纸头版上飞溅了两天，并从互联网上下载，是马来西亚警察的形象。\n",
    "    * malaysia 's anwar `<UNK>` 's image\n",
    "    * 马来西亚的安华`<UNK>`的图像\n",
    "\n",
    "10. \n",
    "    * u.s. special envoy richard holbrooke said monday the military situation in kosovo was as bad now as two weeks ago .\n",
    "    * 我们。特使理查德·霍尔布鲁克星期一说，科索沃的军事状况现在在两个星期前还是糟糕的。\n",
    "    * holbrooke says situation in kosovo\\\n",
    "    * 霍尔布鲁克说，科索沃的局势"
   ]
  },
  {
   "cell_type": "markdown",
   "metadata": {},
   "source": [
    "cambodian opposition asks adb to stop loans to government\n",
    "\n",
    "柬埔寨反对党要求阿布政府停止贷款"
   ]
  }
 ],
 "metadata": {
  "kernelspec": {
   "display_name": "Python 3",
   "language": "python",
   "name": "python3"
  },
  "language_info": {
   "codemirror_mode": {
    "name": "ipython",
    "version": 3
   },
   "file_extension": ".py",
   "mimetype": "text/x-python",
   "name": "python",
   "nbconvert_exporter": "python",
   "pygments_lexer": "ipython3",
   "version": "3.6.0"
  }
 },
 "nbformat": 4,
 "nbformat_minor": 2
}
