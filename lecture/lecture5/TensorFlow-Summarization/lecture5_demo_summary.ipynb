{
 "cells": [
  {
   "cell_type": "code",
   "execution_count": 1,
   "metadata": {
    "collapsed": true
   },
   "outputs": [],
   "source": [
    "import tensorflow as tf\n",
    "import subprocess\n",
    "import logging\n",
    "import os"
   ]
  },
  {
   "cell_type": "code",
   "execution_count": 2,
   "metadata": {
    "collapsed": true
   },
   "outputs": [],
   "source": [
    "model_path = \"model/\"\n",
    "model_pattern = \"model/{}.ckpt-{}\"\n",
    "data_pattern = \"data/test.{}.txt\"\n",
    "OUTPUT_DIR = \"output/\"\n",
    "OUTPUT_PATTERN = OUTPUT_DIR + \"{dataset}.{description}.txt\"\n",
    "MAX_KEEP = 1"
   ]
  },
  {
   "cell_type": "code",
   "execution_count": 3,
   "metadata": {
    "collapsed": true
   },
   "outputs": [],
   "source": [
    "datasets = [\"giga\", \"duc2003\", \"duc2004\"]\n",
    "geneos = [True, False, False]\n",
    "beam_searchs = [1, 10]\n",
    "\n",
    "test_params = {\n",
    "    \"--decode\": True,\n",
    "    \"--fast_decode\": True\n",
    "}\n"
   ]
  },
  {
   "cell_type": "code",
   "execution_count": 4,
   "metadata": {
    "collapsed": true
   },
   "outputs": [],
   "source": [
    "logging.basicConfig(level=logging.DEBUG,\n",
    "                    format=\"%(asctime)s %(filename)s[line:%(lineno)d] %(levelname)s %(message)s\",\n",
    "                    datefmt='%b %d %H:%M')\n",
    "\n",
    "try:\n",
    "    os.mkdir(OUTPUT_DIR)\n",
    "except:\n",
    "    pass\n"
   ]
  },
  {
   "cell_type": "code",
   "execution_count": 17,
   "metadata": {
    "collapsed": false
   },
   "outputs": [
    {
     "name": "stdout",
     "output_type": "stream",
     "text": [
      "all model checkpoints:\n"
     ]
    },
    {
     "data": {
      "text/plain": [
       "[['model', '140000'],\n",
       " ['model', '120000'],\n",
       " ['model', '100000'],\n",
       " ['model', '80000'],\n",
       " ['model', '60000'],\n",
       " ['model', '40000'],\n",
       " ['model', '20000']]"
      ]
     },
     "execution_count": 17,
     "metadata": {},
     "output_type": "execute_result"
    }
   ],
   "source": [
    "ckpts = os.listdir(model_path)\n",
    "models = []\n",
    "for item in ckpts:\n",
    "    toks = item.split('.')\n",
    "    if len(toks) != 3:\n",
    "        continue\n",
    "    if toks[2] != \"index\":\n",
    "        continue\n",
    "    toks[1] = toks[1].split('-')[1]\n",
    "    models.append(toks[:2])\n",
    "models = sorted(models, key = lambda x: int(x[1]), reverse=True)\n",
    "print('all model checkpoints:')\n",
    "models\n"
   ]
  },
  {
   "cell_type": "code",
   "execution_count": 18,
   "metadata": {
    "collapsed": false
   },
   "outputs": [
    {
     "name": "stdout",
     "output_type": "stream",
     "text": [
      "selected checkpoint:\n",
      "['model', '140000']\n",
      "model/model.ckpt-140000\n"
     ]
    }
   ],
   "source": [
    "print('selected checkpoint:')\n",
    "model = models[0]\n",
    "print(model)\n",
    "ckpt = model_pattern.format(model[0], model[1])\n",
    "print(ckpt)"
   ]
  },
  {
   "cell_type": "code",
   "execution_count": 23,
   "metadata": {
    "collapsed": false
   },
   "outputs": [
    {
     "name": "stderr",
     "output_type": "stream",
     "text": [
      "Jul 21 06:59 <ipython-input-23-8cafc93b1a41>[line:1] INFO Test model/model.ckpt-140000. \n",
      "Jul 21 06:59 <ipython-input-23-8cafc93b1a41>[line:5] INFO Test data/test.giga.txt with beam_size = 1\n",
      "Jul 21 06:59 <ipython-input-23-8cafc93b1a41>[line:5] INFO Test data/test.giga.txt with beam_size = 10\n",
      "Jul 21 06:59 <ipython-input-23-8cafc93b1a41>[line:5] INFO Test data/test.duc2003.txt with beam_size = 1\n",
      "Jul 21 06:59 <ipython-input-23-8cafc93b1a41>[line:5] INFO Test data/test.duc2003.txt with beam_size = 10\n",
      "Jul 21 06:59 <ipython-input-23-8cafc93b1a41>[line:5] INFO Test data/test.duc2004.txt with beam_size = 1\n",
      "Jul 21 06:59 <ipython-input-23-8cafc93b1a41>[line:5] INFO Test data/test.duc2004.txt with beam_size = 10\n"
     ]
    }
   ],
   "source": [
    "logging.info(\"Test {}. \".format(ckpt))\n",
    "for dataset, tag in zip(datasets, geneos):\n",
    "    for beam_search in beam_searchs:\n",
    "        logging.info(\"Test {} with beam_size = {}\".format(\n",
    "            data_pattern.format(dataset), beam_search))\n",
    "        output_file = OUTPUT_PATTERN.format(dataset=dataset,\n",
    "            description=str(beam_search)+\"_\"+str(model[1]))\n",
    "        if os.path.exists(output_file):\n",
    "            logging.info(\"{} exists, skip testing\".format(output_file))\n",
    "            continue\n",
    "        \n",
    "        proc = [\"python3\", \"src/summarization.py\",\n",
    "                \"--test_file\", data_pattern.format(dataset),\n",
    "                \"--batch_size\", str(beam_search),\n",
    "                \"--test_output\", output_file,\n",
    "                \"--geneos\", str(tag),\n",
    "                \"--checkpoint\", ckpt]\n",
    "        \n",
    "        for k, v in test_params.items():\n",
    "            proc.append(k)\n",
    "            proc.append(str(v))\n",
    "        \"\"\"\n",
    "        subprocess.call(proc)\n",
    "        \"\"\""
   ]
  },
  {
   "cell_type": "code",
   "execution_count": 24,
   "metadata": {
    "collapsed": false
   },
   "outputs": [
    {
     "data": {
      "text/plain": [
       "['python3',\n",
       " 'src/summarization.py',\n",
       " '--test_file',\n",
       " 'data/test.duc2004.txt',\n",
       " '--batch_size',\n",
       " '10',\n",
       " '--test_output',\n",
       " 'output/duc2004.10_140000.txt',\n",
       " '--geneos',\n",
       " 'False',\n",
       " '--checkpoint',\n",
       " 'model/model.ckpt-140000',\n",
       " '--decode',\n",
       " 'True',\n",
       " '--fast_decode',\n",
       " 'True']"
      ]
     },
     "execution_count": 24,
     "metadata": {},
     "output_type": "execute_result"
    }
   ],
   "source": [
    "proc"
   ]
  },
  {
   "cell_type": "code",
   "execution_count": null,
   "metadata": {
    "collapsed": true
   },
   "outputs": [],
   "source": [
    "import logging\n",
    "import math\n",
    "import os\n",
    "import random\n",
    "import sys\n",
    "import time\n",
    "\n",
    "import numpy as np\n",
    "import tensorflow as tf\n",
    "\n",
    "import bigru_model\n",
    "import data_util\n",
    "\n",
    "tf.app.flags.DEFINE_float(\"learning_rate\", 1., \"Learning rate.\")\n",
    "tf.app.flags.DEFINE_integer(\"size\", 400, \"Size of hidden layers.\")\n",
    "tf.app.flags.DEFINE_integer(\"embsize\", 200, \"Size of embedding.\")\n",
    "tf.app.flags.DEFINE_integer(\"num_layers\", 1, \"Number of layers in the model.\")\n",
    "tf.app.flags.DEFINE_string(\"data_dir\", \"data\", \"Data directory\")\n",
    "tf.app.flags.DEFINE_string(\"test_file\", \"\", \"Test filename.\")\n",
    "tf.app.flags.DEFINE_string(\"test_output\", \"output.txt\", \"Test output.\")\n",
    "tf.app.flags.DEFINE_string(\"train_dir\", \"model\", \"Training directory.\")\n",
    "tf.app.flags.DEFINE_string(\"tfboard\", \"tfboard\", \"Tensorboard log directory.\")\n",
    "tf.app.flags.DEFINE_boolean(\"decode\", False, \"Set to True for testing.\")\n",
    "tf.app.flags.DEFINE_boolean(\"geneos\", True, \"Do not generate EOS. \")\n",
    "tf.app.flags.DEFINE_float(\n",
    "    \"max_gradient\", 1.0, \"Clip gradients l2 norm to this range.\")\n",
    "tf.app.flags.DEFINE_integer(\n",
    "    \"batch_size\", 80, \"Batch size in training / beam size in testing.\")\n",
    "tf.app.flags.DEFINE_integer(\n",
    "    \"doc_vocab_size\", 30000, \"Document vocabulary size.\")\n",
    "tf.app.flags.DEFINE_integer(\n",
    "    \"sum_vocab_size\", 30000, \"Summary vocabulary size.\")\n",
    "tf.app.flags.DEFINE_integer(\n",
    "    \"max_train\", 0, \"Limit on the size of training data (0: no limit).\")\n",
    "tf.app.flags.DEFINE_integer(\n",
    "    \"max_iter\", 1000000, \"Maximum training iterations.\")\n",
    "tf.app.flags.DEFINE_integer(\n",
    "    \"steps_per_validation\", 1000, \"Training steps between validations.\")\n",
    "tf.app.flags.DEFINE_integer(\n",
    "    \"steps_per_checkpoint\", 10000, \"Training steps between checkpoints.\")\n",
    "tf.app.flags.DEFINE_string(\n",
    "    \"checkpoint\", \"\", \"Checkpoint to load (use up-to-date if not set)\")\n",
    "\n",
    "FLAGS = tf.app.flags.FLAGS\n",
    "\n",
    "# We use a number of buckets for sampling\n",
    "_buckets = [(30, 10), (50, 20), (70, 20), (100, 20), (200, 30)]\n",
    "\n",
    "\n",
    "def create_bucket(source, target):\n",
    "    data_set = [[] for _ in _buckets]\n",
    "    for s, t in zip(source, target):\n",
    "        t = [data_util.ID_GO] + t + [data_util.ID_EOS]\n",
    "        for bucket_id, (s_size, t_size) in enumerate(_buckets):\n",
    "            if len(s) <= s_size and len(t) <= t_size:\n",
    "                data_set[bucket_id].append([s, t])\n",
    "                break\n",
    "    return data_set\n",
    "\n",
    "\n",
    "def create_model(session, forward_only):\n",
    "    \"\"\"Create model and initialize or load parameters in session.\"\"\"\n",
    "    dtype = tf.float32\n",
    "    model = bigru_model.BiGRUModel(\n",
    "        FLAGS.doc_vocab_size,\n",
    "        FLAGS.sum_vocab_size,\n",
    "        _buckets,\n",
    "        FLAGS.size,\n",
    "        FLAGS.num_layers,\n",
    "        FLAGS.embsize,\n",
    "        FLAGS.max_gradient,\n",
    "        FLAGS.batch_size,\n",
    "        FLAGS.learning_rate,\n",
    "        forward_only=forward_only,\n",
    "        dtype=dtype)\n",
    "    if FLAGS.checkpoint != \"\":\n",
    "        ckpt = FLAGS.checkpoint\n",
    "    else:\n",
    "        ckpt = tf.train.get_checkpoint_state(FLAGS.train_dir)\n",
    "        if ckpt:\n",
    "            ckpt = ckpt.model_checkpoint_path\n",
    "    if ckpt and tf.train.checkpoint_exists(ckpt):\n",
    "        logging.info(\"Reading model parameters from %s\" % ckpt)\n",
    "        model.saver.restore(session, ckpt)\n",
    "    else:\n",
    "        logging.info(\"Created model with fresh parameters.\")\n",
    "        session.run(tf.global_variables_initializer())\n",
    "    return model\n",
    "\n",
    "\n",
    "def train():\n",
    "    logging.info(\"Preparing summarization data.\")\n",
    "    docid, sumid, doc_dict, sum_dict = \\\n",
    "        data_util.load_data(\n",
    "            FLAGS.data_dir + \"/train.article.txt\",\n",
    "            FLAGS.data_dir + \"/train.title.txt\",\n",
    "            FLAGS.data_dir + \"/doc_dict.txt\",\n",
    "            FLAGS.data_dir + \"/sum_dict.txt\",\n",
    "            FLAGS.doc_vocab_size, FLAGS.sum_vocab_size)\n",
    "\n",
    "    val_docid, val_sumid = \\\n",
    "        data_util.load_valid_data(\n",
    "            FLAGS.data_dir + \"/valid.article.filter.txt\",\n",
    "            FLAGS.data_dir + \"/valid.title.filter.txt\",\n",
    "            doc_dict, sum_dict)\n",
    "\n",
    "    with tf.Session() as sess:\n",
    "        # Create model.\n",
    "        logging.info(\"Creating %d layers of %d units.\" %\n",
    "                     (FLAGS.num_layers, FLAGS.size))\n",
    "        train_writer = tf.summary.FileWriter(FLAGS.tfboard, sess.graph)\n",
    "        model = create_model(sess, False)\n",
    "\n",
    "        # Read data into buckets and compute their sizes.\n",
    "        logging.info(\"Create buckets.\")\n",
    "        dev_set = create_bucket(val_docid, val_sumid)\n",
    "        train_set = create_bucket(docid, sumid)\n",
    "\n",
    "        train_bucket_sizes = [len(train_set[b]) for b in range(len(_buckets))]\n",
    "        train_total_size = float(sum(train_bucket_sizes))\n",
    "        train_buckets_scale = [\n",
    "            sum(train_bucket_sizes[:i + 1]) / train_total_size\n",
    "            for i in range(len(train_bucket_sizes))]\n",
    "\n",
    "        for (s_size, t_size), nsample in zip(_buckets, train_bucket_sizes):\n",
    "            logging.info(\"Train set bucket ({}, {}) has {} samples.\".format(\n",
    "                s_size, t_size, nsample))\n",
    "\n",
    "        # This is the training loop.\n",
    "        step_time, loss = 0.0, 0.0\n",
    "        current_step = sess.run(model.global_step)\n",
    "\n",
    "        while current_step <= FLAGS.max_iter:\n",
    "            random_number_01 = np.random.random_sample()\n",
    "            bucket_id = min([i for i in range(len(train_buckets_scale))\n",
    "                             if train_buckets_scale[i] > random_number_01])\n",
    "\n",
    "            # Get a batch and make a step.\n",
    "            start_time = time.time()\n",
    "            encoder_inputs, decoder_inputs, encoder_len, decoder_len = \\\n",
    "                model.get_batch(train_set, bucket_id)\n",
    "            step_loss, _ = model.step(\n",
    "                sess, encoder_inputs, decoder_inputs,\n",
    "                encoder_len, decoder_len, False, train_writer)\n",
    "\n",
    "            step_time += (time.time() - start_time) / \\\n",
    "                FLAGS.steps_per_validation\n",
    "            loss += step_loss * FLAGS.batch_size / np.sum(decoder_len) \\\n",
    "                / FLAGS.steps_per_validation\n",
    "            current_step += 1\n",
    "\n",
    "            # Once in a while, we save checkpoint.\n",
    "            if current_step % FLAGS.steps_per_checkpoint == 0:\n",
    "                # Save checkpoint and zero timer and loss.\n",
    "                checkpoint_path = os.path.join(FLAGS.train_dir, \"model.ckpt\")\n",
    "                model.saver.save(sess, checkpoint_path,\n",
    "                                 global_step=model.global_step)\n",
    "\n",
    "            # Once in a while, we print statistics and run evals.\n",
    "            if current_step % FLAGS.steps_per_validation == 0:\n",
    "                # Print statistics for the previous epoch.\n",
    "                perplexity = np.exp(float(loss))\n",
    "                logging.info(\n",
    "                    \"global step %d step-time %.2f ppl %.2f\" % (model.global_step.eval(), step_time, perplexity))\n",
    "\n",
    "                step_time, loss = 0.0, 0.0\n",
    "                # Run evals on development set and print their perplexity.\n",
    "                for bucket_id in range(len(_buckets)):\n",
    "                    if len(dev_set[bucket_id]) == 0:\n",
    "                        logging.info(\"  eval: empty bucket %d\" % (bucket_id))\n",
    "                        continue\n",
    "                    encoder_inputs, decoder_inputs, encoder_len, decoder_len =\\\n",
    "                        model.get_batch(dev_set, bucket_id)\n",
    "                    eval_loss, _ = model.step(sess, encoder_inputs,\n",
    "                                            decoder_inputs, encoder_len,\n",
    "                                            decoder_len, True)\n",
    "                    eval_loss = eval_loss * FLAGS.batch_size \\\n",
    "                        / np.sum(decoder_len)\n",
    "                    eval_ppx = np.exp(float(eval_loss))\n",
    "                    logging.info(\"  eval: bucket %d ppl %.2f\" %\n",
    "                                 (bucket_id, eval_ppx))\n",
    "                sys.stdout.flush()\n",
    "\n",
    "def decode():\n",
    "    # Load vocabularies.\n",
    "    doc_dict = data_util.load_dict(FLAGS.data_dir + \"/doc_dict.txt\")\n",
    "    sum_dict = data_util.load_dict(FLAGS.data_dir + \"/sum_dict.txt\")\n",
    "    if doc_dict is None or sum_dict is None:\n",
    "        logging.warning(\"Dict not found.\")\n",
    "    data = data_util.load_test_data(FLAGS.test_file, doc_dict)\n",
    "\n",
    "    with tf.Session() as sess:\n",
    "        # Create model and load parameters.\n",
    "        logging.info(\"Creating %d layers of %d units.\" %\n",
    "                     (FLAGS.num_layers, FLAGS.size))\n",
    "        model = create_model(sess, True)\n",
    "\n",
    "        result = []\n",
    "        for idx, token_ids in enumerate(data):\n",
    "\n",
    "            # Get a 1-element batch to feed the sentence to the model.\n",
    "            encoder_inputs, decoder_inputs, encoder_len, decoder_len =\\\n",
    "                model.get_batch(\n",
    "                    {0: [(token_ids, [data_util.ID_GO, data_util.ID_EOS])]}, 0)\n",
    "\n",
    "            if FLAGS.batch_size == 1 and FLAGS.geneos:\n",
    "                loss, outputs = model.step(sess,\n",
    "                    encoder_inputs, decoder_inputs,\n",
    "                    encoder_len, decoder_len, True)\n",
    "\n",
    "                outputs = [np.argmax(item) for item in outputs[0]]\n",
    "            else:\n",
    "                outputs = model.step_beam(\n",
    "                    sess, encoder_inputs, encoder_len, geneos=FLAGS.geneos)\n",
    "\n",
    "            # If there is an EOS symbol in outputs, cut them at that point.\n",
    "            if data_util.ID_EOS in outputs:\n",
    "                outputs = outputs[:outputs.index(data_util.ID_EOS)]\n",
    "            gen_sum = \" \".join(data_util.sen_map2tok(outputs, sum_dict[1]))\n",
    "            gen_sum = data_util.sen_postprocess(gen_sum)\n",
    "            result.append(gen_sum)\n",
    "            logging.info(\"Finish {} samples. :: {}\".format(idx, gen_sum[:75]))\n",
    "        with open(FLAGS.test_output, \"w\") as f:\n",
    "            for item in result:\n",
    "                print(item, file=f)\n"
   ]
  },
  {
   "cell_type": "markdown",
   "metadata": {},
   "source": [
    "'python3',\n",
    "'src/summarization.py',\n",
    "'--test_file',\n",
    "'data/test.duc2004.txt',\n",
    "'--batch_size',\n",
    "'10',\n",
    "'--test_output',\n",
    "'output/duc2004.10_140000.txt',\n",
    "'--geneos',\n",
    "'False',\n",
    "'--checkpoint',\n",
    "'model/model.ckpt-140000',\n",
    "'--decode',\n",
    "'True',\n",
    "'--fast_decode',\n",
    "'True'"
   ]
  },
  {
   "cell_type": "code",
   "execution_count": 25,
   "metadata": {
    "collapsed": false
   },
   "outputs": [
    {
     "ename": "NameError",
     "evalue": "name 'data_util' is not defined",
     "output_type": "error",
     "traceback": [
      "\u001b[0;31m---------------------------------------------------------------------------\u001b[0m",
      "\u001b[0;31mNameError\u001b[0m                                 Traceback (most recent call last)",
      "\u001b[0;32m<ipython-input-25-3708fd7116bd>\u001b[0m in \u001b[0;36m<module>\u001b[0;34m()\u001b[0m\n\u001b[0;32m----> 1\u001b[0;31m \u001b[0mdoc_dict\u001b[0m \u001b[0;34m=\u001b[0m \u001b[0mdata_util\u001b[0m\u001b[0;34m.\u001b[0m\u001b[0mload_dict\u001b[0m\u001b[0;34m(\u001b[0m\u001b[0;34m\"data/doc_dict.txt\"\u001b[0m\u001b[0;34m)\u001b[0m\u001b[0;34m\u001b[0m\u001b[0m\n\u001b[0m\u001b[1;32m      2\u001b[0m \u001b[0mdata\u001b[0m \u001b[0;34m=\u001b[0m \u001b[0mdata_util\u001b[0m\u001b[0;34m.\u001b[0m\u001b[0mload_test_data\u001b[0m\u001b[0;34m(\u001b[0m\u001b[0mdata\u001b[0m\u001b[0;34m/\u001b[0m\u001b[0mtest\u001b[0m\u001b[0;34m.\u001b[0m\u001b[0mduc2004\u001b[0m\u001b[0;34m.\u001b[0m\u001b[0mtxt\u001b[0m\u001b[0;34m,\u001b[0m \u001b[0mdoc_dict\u001b[0m\u001b[0;34m)\u001b[0m\u001b[0;34m\u001b[0m\u001b[0m\n",
      "\u001b[0;31mNameError\u001b[0m: name 'data_util' is not defined"
     ]
    }
   ],
   "source": [
    "doc_dict = data_util.load_dict(\"data/doc_dict.txt\")\n",
    "data = data_util.load_test_data(data/test.duc2004.txt, doc_dict)"
   ]
  },
  {
   "cell_type": "code",
   "execution_count": null,
   "metadata": {
    "collapsed": true
   },
   "outputs": [],
   "source": [
    "\n",
    "def main(_):\n",
    "    if FLAGS.decode:\n",
    "        decode()\n",
    "    else:\n",
    "        train()\n",
    "\n",
    "if __name__ == \"__main__\":\n",
    "    logging.basicConfig(level=logging.DEBUG,\n",
    "                        format=\"%(asctime)s %(filename)s[line:%(lineno)d] %(levelname)s %(message)s\",\n",
    "                        datefmt='%b %d %H:%M')\n",
    "    try:\n",
    "        os.makedirs(FLAGS.train_dir)\n",
    "    except:\n",
    "        pass\n",
    "    tf.app.run()\n"
   ]
  }
 ],
 "metadata": {
  "kernelspec": {
   "display_name": "Python 3",
   "language": "python",
   "name": "python3"
  },
  "language_info": {
   "codemirror_mode": {
    "name": "ipython",
    "version": 3
   },
   "file_extension": ".py",
   "mimetype": "text/x-python",
   "name": "python",
   "nbconvert_exporter": "python",
   "pygments_lexer": "ipython3",
   "version": "3.6.0"
  }
 },
 "nbformat": 4,
 "nbformat_minor": 2
}
