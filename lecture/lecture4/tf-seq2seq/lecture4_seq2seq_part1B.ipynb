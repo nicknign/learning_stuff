{
 "cells": [
  {
   "cell_type": "markdown",
   "metadata": {},
   "source": [
    "# 使用raw_rnn实现自定义的decoding功能"
   ]
  },
  {
   "cell_type": "code",
   "execution_count": 1,
   "metadata": {
    "collapsed": true
   },
   "outputs": [],
   "source": [
    "import helpers\n",
    "import tensorflow as tf\n",
    "\n",
    "from tensorflow.contrib.rnn import BasicLSTMCell, LSTMStateTuple"
   ]
  },
  {
   "cell_type": "code",
   "execution_count": 2,
   "metadata": {
    "collapsed": true
   },
   "outputs": [],
   "source": [
    "tf.reset_default_graph()\n",
    "sess = tf.InteractiveSession()"
   ]
  },
  {
   "cell_type": "markdown",
   "metadata": {},
   "source": [
    "#### Encoder部分，使用双向encoder \n",
    "来自上一部分代码演示"
   ]
  },
  {
   "cell_type": "code",
   "execution_count": 3,
   "metadata": {
    "collapsed": true
   },
   "outputs": [],
   "source": [
    "PAD = 0\n",
    "EOS = 1\n",
    "\n",
    "vocab_size = 10\n",
    "input_embedding_size = 20\n",
    "\n",
    "encoder_hidden_units = 20\n",
    "decoder_hidden_units = 2 * encoder_hidden_units # bidirectional RNN, 见后面的解释\n",
    "\n",
    "\n",
    "with tf.name_scope('minibatch'):\n",
    "    encoder_inputs = tf.placeholder(\n",
    "        shape=(None, None), dtype=tf.int32, name='encoder_inputs')\n",
    "    encoder_inputs_length = tf.placeholder(\n",
    "        shape=(None,), dtype=tf.int32, name='encoder_inputs_length')\n",
    "\n",
    "    decoder_targets = tf.placeholder(\n",
    "        shape=(None, None), dtype=tf.int32, name='decoder_targets')\n",
    "\n",
    "with tf.name_scope('embedding'):\n",
    "    embeddings = tf.Variable(\n",
    "        tf.random_uniform([vocab_size, input_embedding_size], -1.0, 1.0),\n",
    "        dtype=tf.float32)\n",
    "\n",
    "encoder_inputs_embedded = tf.nn.embedding_lookup(\n",
    "    embeddings, encoder_inputs)\n",
    "\n",
    "encoder_cell = BasicLSTMCell(encoder_hidden_units)\n",
    "\n",
    "# 双向dynamic_rnn\n",
    "((encoder_fw_outputs, encoder_bw_outputs),\n",
    " (encoder_fw_final_state, encoder_bw_final_state)) = (\n",
    "    tf.nn.bidirectional_dynamic_rnn(\n",
    "        cell_fw=encoder_cell,\n",
    "        cell_bw=encoder_cell,\n",
    "        inputs=encoder_inputs_embedded,\n",
    "        sequence_length=encoder_inputs_length,\n",
    "        dtype=tf.float32, time_major=True)\n",
    ")\n",
    "\n",
    "# 将正向和反向的encoder的final state拼接到一起，需要对state.c和state.h分别操作\n",
    "encoder_final_state_c = tf.concat(\n",
    "    (encoder_fw_final_state.c, encoder_bw_final_state.c), 1)\n",
    "\n",
    "encoder_final_state_h = tf.concat(\n",
    "    (encoder_fw_final_state.h, encoder_bw_final_state.h), 1)\n",
    "\n",
    "encoder_final_state = LSTMStateTuple(\n",
    "    c=encoder_final_state_c,\n",
    "    h=encoder_final_state_h\n",
    ")"
   ]
  },
  {
   "cell_type": "markdown",
   "metadata": {},
   "source": [
    "# 使用raw_rnn实现自定义的decoding功能:\n",
    "\n",
    "## 不提供真实的句子作为`decoder_input`"
   ]
  },
  {
   "cell_type": "markdown",
   "metadata": {},
   "source": [
    "## Decoder via `tf.nn.raw_rnn`\n",
    "\n",
    "**`dynamic_rnn`**需要提供decoder_input\n",
    "1. 提供真实的sequence作为decoder_input，与testing环境相差太大\n",
    "2. 提供`[<pad>, <pad>, ... <pad>]`作为decoder_input，浪费input信息\n",
    "\n",
    "\n",
    "\n",
    "![seq2seq-feed-previous](figure/nct-seq2seq.png)\n",
    "* **这个图片的操作在训练和测试阶段都可以使用**\n",
    "* 图片来自 http://www.wildml.com/2016/04/deep-learning-for-chatbots-part-1-introduction/*"
   ]
  },
  {
   "cell_type": "code",
   "execution_count": 4,
   "metadata": {
    "collapsed": true
   },
   "outputs": [],
   "source": [
    "decoder_cell = BasicLSTMCell(decoder_hidden_units)"
   ]
  },
  {
   "cell_type": "markdown",
   "metadata": {},
   "source": [
    "**`encoder_max_time`**和**`batch_size`**这两个Tensor取决于placeholder输入的数据的维度。注意代码里面的placeholder的形状是**`None`**"
   ]
  },
  {
   "cell_type": "code",
   "execution_count": 5,
   "metadata": {
    "collapsed": true
   },
   "outputs": [],
   "source": [
    "encoder_max_time, batch_size = tf.unstack(tf.shape(encoder_inputs))"
   ]
  },
  {
   "cell_type": "markdown",
   "metadata": {},
   "source": [
    "## 定义`decoder_lengths`，作为decoder输出sequence的预期长度的上限\n",
    "\n",
    "## 实际的decoding结果的长度取决于`<eos>`出现的位置\n",
    "\n",
    "### 1. 如果`<eos>`出现的位置早于达到长度上限，则之后的decoding cell 输出的内容忽略不计\n",
    "### 2. 如果达到decoding 长度上限以后`<eos>`没有出现，则强行停止decoding\n"
   ]
  },
  {
   "cell_type": "markdown",
   "metadata": {},
   "source": [
    "```\n",
    "loop_fn_initial()\n",
    "\n",
    "while current_length[i] <= max_decoding_length[i] for some i:\n",
    "\n",
    "    (previous_output, previous_state) = loop_fn_transition ( previous_output, previous_state)\n",
    "    \n",
    "     current_length[i] += 1 for every i\n",
    "\n",
    "```\n",
    "    \n",
    "    "
   ]
  },
  {
   "cell_type": "code",
   "execution_count": 6,
   "metadata": {
    "collapsed": true
   },
   "outputs": [],
   "source": [
    "decoder_lengths = encoder_inputs_length + 3\n",
    "# 这里定义每一个样本的decoding的输出序列的上限比这个样本encoder输入序列的长度大一些\n",
    "# 例如，\n",
    "# encoder_inputs_length = [2, 3, 5, 4]\n",
    "# decoder_length = [5, 6, 8, 7]"
   ]
  },
  {
   "cell_type": "code",
   "execution_count": 7,
   "metadata": {
    "collapsed": true
   },
   "outputs": [],
   "source": [
    "assert EOS == 1 and PAD == 0\n",
    "\n",
    "eos_time_slice = tf.ones([batch_size], dtype=tf.int32, name='EOS')\n",
    "pad_time_slice = tf.zeros([batch_size], dtype=tf.int32, name='PAD')\n",
    "\n",
    "eos_step_embedded = tf.nn.embedding_lookup(embeddings, eos_time_slice)\n",
    "pad_step_embedded = tf.nn.embedding_lookup(embeddings, pad_time_slice)"
   ]
  },
  {
   "cell_type": "code",
   "execution_count": 8,
   "metadata": {
    "collapsed": true
   },
   "outputs": [],
   "source": [
    "# 用于从当前RNN output预测最可能的单词\n",
    "W = tf.Variable(tf.random_uniform([decoder_hidden_units, vocab_size], -1, 1), dtype=tf.float32)\n",
    "b = tf.Variable(tf.zeros([vocab_size]), dtype=tf.float32)"
   ]
  },
  {
   "cell_type": "code",
   "execution_count": 9,
   "metadata": {
    "collapsed": true
   },
   "outputs": [],
   "source": [
    "def loop_fn_initial():\n",
    "    initial_elements_finished = (0 >= decoder_lengths)  # all False at the initial step\n",
    "    initial_input = eos_step_embedded\n",
    "    initial_cell_state = encoder_final_state\n",
    "    initial_cell_output = None\n",
    "    initial_loop_state = None  # we don't need to pass any additional information\n",
    "    \n",
    "    return (initial_elements_finished,\n",
    "            initial_input,\n",
    "            initial_cell_state,\n",
    "            initial_cell_output,\n",
    "            initial_loop_state)"
   ]
  },
  {
   "cell_type": "markdown",
   "metadata": {},
   "source": [
    "![alt text](figure/loop_fn.png)"
   ]
  },
  {
   "cell_type": "code",
   "execution_count": 10,
   "metadata": {
    "collapsed": true
   },
   "outputs": [],
   "source": [
    "def loop_fn_transition(time, previous_output, previous_state, previous_loop_state):\n",
    "\n",
    "    def get_next_input():\n",
    "        \"\"\"产生下一个时间的输入单词\n",
    "        \n",
    "        根据当前时间的rnn output,对minibatch中的每一个样本预测这个时间最可能的单词，\n",
    "        将其作为下一个时间的decoding任务的输入单词\n",
    "        \"\"\"\n",
    "        output_logits = tf.add(tf.matmul(previous_output, W), b) # [batch_size, vocabSize]\n",
    "        prediction = tf.argmax(output_logits, axis=1) # [batch_size]\n",
    "        next_input = tf.nn.embedding_lookup(embeddings, prediction) # [batch_size, embed_dim]\n",
    "        return next_input\n",
    "    \n",
    "    elements_finished = (time >= decoder_lengths)\n",
    "    # boolen tensor of [batch_size], 决定是否每一个样本都完成了decoding任务\n",
    "    # 对batch_size中的每一个，如果time大于预期的decoding_length，则该样本的decoding任务已经完成\n",
    "\n",
    "    finished = tf.reduce_all(elements_finished)\n",
    "    # 当且尽当所有的 elements_finished 元素都是 True,即，所有样本都已经完成decoding时，finished = True\n",
    "    \n",
    "    input = tf.cond(finished, lambda: pad_step_embedded, get_next_input)\n",
    "    # return pad_step_embedded if finished=True,\n",
    "    #   lambda: pad_step_embedded, batch_size个[pad] 的 embedding\n",
    "    #   lambda的用初始将tensor pad_step_embedded转化成一个函数，满足tf.cond()的 Arg 要求\n",
    "    # return get_next_input if finished=False\n",
    "    #   get_next_input 用来产生下一个时间的input单词的embedding\n",
    "    \n",
    "    state = previous_state\n",
    "    output = previous_output\n",
    "    loop_state = None\n",
    "\n",
    "    return (elements_finished, \n",
    "            input,\n",
    "            state,\n",
    "            output,\n",
    "            loop_state)"
   ]
  },
  {
   "cell_type": "code",
   "execution_count": 11,
   "metadata": {
    "collapsed": true
   },
   "outputs": [],
   "source": [
    "def loop_fn(time, previous_output, previous_state, previous_loop_state):\n",
    "    if previous_state is None:    # time == 0\n",
    "        assert previous_output is None and previous_state is None\n",
    "        return loop_fn_initial()\n",
    "    else:\n",
    "        return loop_fn_transition(time, previous_output, previous_state, previous_loop_state)"
   ]
  },
  {
   "cell_type": "markdown",
   "metadata": {},
   "source": [
    "## 使用raw_rnn()实现自定义rnn"
   ]
  },
  {
   "cell_type": "code",
   "execution_count": 12,
   "metadata": {
    "collapsed": true
   },
   "outputs": [],
   "source": [
    "decoder_outputs_ta, decoder_final_state, _ = tf.nn.raw_rnn(decoder_cell, loop_fn)\n",
    "decoder_outputs = decoder_outputs_ta.stack()"
   ]
  },
  {
   "cell_type": "code",
   "execution_count": 13,
   "metadata": {
    "collapsed": false
   },
   "outputs": [
    {
     "name": "stdout",
     "output_type": "stream",
     "text": [
      "<tensorflow.python.ops.tensor_array_ops.TensorArray object at 0x00000152A7D54EB8>\n",
      "Tensor(\"TensorArrayStack/TensorArrayGatherV3:0\", shape=(?, ?, 40), dtype=float32)\n"
     ]
    }
   ],
   "source": [
    "print(decoder_outputs_ta)\n",
    "print(decoder_outputs)"
   ]
  },
  {
   "cell_type": "markdown",
   "metadata": {},
   "source": [
    "RNN decoding的输出 `decoder_outputs` ，维度[max_time, batch_size, hidden_units]的Tensor，使用下面的参数W, b映射为维度为 [max_time, batch_size, vocab_size]的`decoder_logits` 其中`vocab_size`是固定数值的超参数，`max_time`, `batch_size`有feed给tf的数据决定."
   ]
  },
  {
   "cell_type": "code",
   "execution_count": 14,
   "metadata": {
    "collapsed": true
   },
   "outputs": [],
   "source": [
    "decoder_max_steps, decoder_batch_size, decoder_dim = tf.unstack(\n",
    "    tf.shape(decoder_outputs))\n",
    "decoder_outputs_flat = tf.reshape(\n",
    "    decoder_outputs, (-1, decoder_dim))\n",
    "decoder_logits_flat = tf.add(\n",
    "    tf.matmul(decoder_outputs_flat, W), b)\n",
    "decoder_logits = tf.reshape(\n",
    "    decoder_logits_flat, \n",
    "    (decoder_max_steps, decoder_batch_size, vocab_size))\n",
    "\n",
    "decoder_prediction = tf.argmax(decoder_logits, 2)"
   ]
  },
  {
   "cell_type": "code",
   "execution_count": 15,
   "metadata": {
    "collapsed": true
   },
   "outputs": [],
   "source": [
    "stepwise_cross_entropy = tf.nn.softmax_cross_entropy_with_logits(\n",
    "    labels=tf.one_hot(decoder_targets, depth=vocab_size, dtype=tf.float32),\n",
    "    logits=decoder_logits,\n",
    ")\n",
    "\n",
    "loss = tf.reduce_mean(stepwise_cross_entropy)\n",
    "train_op = tf.train.AdamOptimizer().minimize(loss)"
   ]
  },
  {
   "cell_type": "code",
   "execution_count": 16,
   "metadata": {
    "collapsed": true
   },
   "outputs": [],
   "source": [
    "sess.run(tf.global_variables_initializer())"
   ]
  },
  {
   "cell_type": "code",
   "execution_count": 17,
   "metadata": {
    "collapsed": false
   },
   "outputs": [
    {
     "name": "stdout",
     "output_type": "stream",
     "text": [
      "head of the batch:\n",
      "[3, 8, 4, 2, 3, 8, 6, 6]\n",
      "[3, 9, 8, 3, 5, 4, 6, 8]\n",
      "[2, 3, 6, 7, 7]\n",
      "[6, 6, 2, 3, 6, 3, 6, 2]\n",
      "[9, 6, 9]\n",
      "[3, 5, 7]\n",
      "[7, 2, 7, 5, 9, 7, 3]\n",
      "[7, 4, 3, 4, 2, 4]\n",
      "[8, 7, 3]\n",
      "[3, 5, 2, 9, 5]\n"
     ]
    }
   ],
   "source": [
    "batch_size = 100\n",
    "\n",
    "batches = helpers.random_sequences(length_from=3, length_to=8,\n",
    "                                   vocab_lower=2, vocab_upper=10,\n",
    "                                   batch_size=batch_size)\n",
    "\n",
    "print('head of the batch:')\n",
    "for seq in next(batches)[:10]:\n",
    "    print(seq)"
   ]
  },
  {
   "cell_type": "code",
   "execution_count": 18,
   "metadata": {
    "collapsed": true
   },
   "outputs": [],
   "source": [
    "def next_feed():\n",
    "    batch = next(batches)\n",
    "    encoder_inputs_, encoder_input_lengths_ = helpers.batch(batch)\n",
    "    decoder_targets_, _ = helpers.batch(\n",
    "        [(sequence) + [EOS] + [PAD] * 2 for sequence in batch]\n",
    "    )\n",
    "    return {\n",
    "        encoder_inputs: encoder_inputs_,\n",
    "        encoder_inputs_length: encoder_input_lengths_,\n",
    "        decoder_targets: decoder_targets_,\n",
    "    }"
   ]
  },
  {
   "cell_type": "code",
   "execution_count": 19,
   "metadata": {
    "collapsed": true
   },
   "outputs": [],
   "source": [
    "loss_track = []"
   ]
  },
  {
   "cell_type": "code",
   "execution_count": 20,
   "metadata": {
    "collapsed": false
   },
   "outputs": [
    {
     "name": "stdout",
     "output_type": "stream",
     "text": [
      "batch 0\n",
      "  minibatch loss: 2.367949962615967\n",
      "  sample 1:\n",
      "    input     > [5 4 4 9 6 0 0 0]\n",
      "    predicted > [2 2 2 2 2 2 2 2 0 0 0]\n",
      "  sample 2:\n",
      "    input     > [3 8 4 7 5 0 0 0]\n",
      "    predicted > [2 2 2 2 9 2 2 2 0 0 0]\n",
      "  sample 3:\n",
      "    input     > [3 9 3 7 0 0 0 0]\n",
      "    predicted > [2 2 9 2 9 2 2 0 0 0 0]\n",
      "\n",
      "batch 1000\n",
      "  minibatch loss: 0.5663590431213379\n",
      "  sample 1:\n",
      "    input     > [4 7 2 5 0 0 0 0]\n",
      "    predicted > [4 7 2 5 1 0 0 0 0 0 0]\n",
      "  sample 2:\n",
      "    input     > [4 7 8 5 0 0 0 0]\n",
      "    predicted > [4 7 8 5 1 0 0 0 0 0 0]\n",
      "  sample 3:\n",
      "    input     > [7 8 3 6 5 6 8 6]\n",
      "    predicted > [7 8 3 6 6 6 6 6 1 0 0]\n",
      "\n",
      "batch 2000\n",
      "  minibatch loss: 0.2570143938064575\n",
      "  sample 1:\n",
      "    input     > [6 9 2 0 0 0 0 0]\n",
      "    predicted > [6 9 2 1 0 0 0 0 0 0 0]\n",
      "  sample 2:\n",
      "    input     > [2 6 9 0 0 0 0 0]\n",
      "    predicted > [2 6 9 1 0 0 0 0 0 0 0]\n",
      "  sample 3:\n",
      "    input     > [4 7 4 3 9 6 7 0]\n",
      "    predicted > [4 7 4 3 6 6 7 1 0 0 0]\n",
      "\n",
      "batch 3000\n",
      "  minibatch loss: 0.11511566489934921\n",
      "  sample 1:\n",
      "    input     > [4 6 8 2 6 7 0 0]\n",
      "    predicted > [4 6 8 2 6 7 1 0 0 0 0]\n",
      "  sample 2:\n",
      "    input     > [9 6 4 0 0 0 0 0]\n",
      "    predicted > [9 6 4 1 0 0 0 0 0 0 0]\n",
      "  sample 3:\n",
      "    input     > [3 4 8 8 6 7 6 5]\n",
      "    predicted > [3 4 8 8 6 6 6 5 1 0 0]\n",
      "\n"
     ]
    }
   ],
   "source": [
    "max_batches = 3001\n",
    "batches_in_epoch = 1000\n",
    "\n",
    "try:\n",
    "    for batch in range(max_batches):\n",
    "        fd = next_feed()\n",
    "        _, l = sess.run([train_op, loss], fd)\n",
    "        loss_track.append(l)\n",
    "\n",
    "        if batch == 0 or batch % batches_in_epoch == 0:\n",
    "            print('batch {}'.format(batch))\n",
    "            print('  minibatch loss: {}'.format(sess.run(loss, fd)))\n",
    "            predict_ = sess.run(decoder_prediction, fd)\n",
    "            for i, (inp, pred) in enumerate(zip(fd[encoder_inputs].T, predict_.T)):\n",
    "                print('  sample {}:'.format(i + 1))\n",
    "                print('    input     > {}'.format(inp))\n",
    "                print('    predicted > {}'.format(pred))\n",
    "                if i >= 2:\n",
    "                    break\n",
    "            print()\n",
    "\n",
    "except KeyboardInterrupt:\n",
    "    print('training interrupted')"
   ]
  },
  {
   "cell_type": "code",
   "execution_count": 21,
   "metadata": {
    "collapsed": false
   },
   "outputs": [
    {
     "name": "stdout",
     "output_type": "stream",
     "text": [
      "loss 0.1144 after 300100 examples (batch_size=100)\n"
     ]
    },
    {
     "data": {
      "image/png": "[encoded data removed]",
      "text/plain": [
       "<matplotlib.figure.Figure at 0x152a9b68198>"
      ]
     },
     "metadata": {},
     "output_type": "display_data"
    }
   ],
   "source": [
    "%matplotlib inline\n",
    "import matplotlib.pyplot as plt\n",
    "plt.plot(loss_track)\n",
    "print('loss {:.4f} after {} examples (batch_size={})'.format(loss_track[-1], len(loss_track)*batch_size, batch_size))"
   ]
  },
  {
   "cell_type": "code",
   "execution_count": null,
   "metadata": {
    "collapsed": true
   },
   "outputs": [],
   "source": []
  }
 ],
 "metadata": {
  "kernelspec": {
   "display_name": "Python 2",
   "language": "python",
   "name": "python2"
  },
  "language_info": {
   "codemirror_mode": {
    "name": "ipython",
    "version": 2
   },
   "file_extension": ".py",
   "mimetype": "text/x-python",
   "name": "python",
   "nbconvert_exporter": "python",
   "pygments_lexer": "ipython2",
   "version": "2.7.10"
  }
 },
 "nbformat": 4,
 "nbformat_minor": 2
}
